{
 "cells": [
  {
   "cell_type": "markdown",
   "id": "c811ef90",
   "metadata": {},
   "source": [
    "|Lecture | Topic | Date|\n",
    "|---|---|---|\n",
    "|Lecture 1| - Electric Charge| Jan 23|\n",
    "|Lecture 2| - Electric Force and Fields| Jan 24 (Note this is recitation time!)|\n",
    "|Lecture 3| - Fields due to continuous charge distributions|Jan 25|\n",
    "|Lecture 4| - Electric Flux and Gauss's Law|Jan 30|\n",
    "|Lecture 5| - Calculating Electric Fields|Feb 1|\n",
    "|Lecture 6| - Electric potential|Feb 3|\n",
    "|Lecture 7| - Potential distributions|Feb 6|\n",
    "|Lecture 8| - Capacitors|Feb 8|\n",
    "|Lecture 9| - Dielectrics|Feb 10|\n",
    "|Lecture 10| - Electric Current|Feb 13|\n",
    "|Lecture 11| - Conduction and Electric Power| Feb 15|\n",
    "|Lecture 12| - DC Circuits| Feb 17|\n",
    "|Lecture 13| - Applying Kirchoff's Rules| Feb 20|\n",
    "|Lecture 14| - Midterm 1 Review Session | Feb 22|\n",
    "|Midterm I | | Feb 24|\n",
    "|Lecture 15| - Magnetic Fields|Feb 27|\n",
    "|Lecture 16| - Magnetic Force| March 1|\n",
    "|Lecture 17| - Applications of Magnetic Force| March 3|\n",
    "|Lecture 18| - Ampere's Law| March 6 (Zoom)|\n",
    "|Lecture 19| - Biot-Savart Law| March 8 (Zoom)|\n",
    "|Lecture 20| - Magnetic Materials| March 10 (Zoom)|\n",
    "|Lecture 21| - Electromagnetic Induction| March 20|\n",
    "|Lecture 22| - Applications of Induction| March 22|\n",
    "|Lecture 23| - Inductance| March 24|\n",
    "|Lecture 24| - Electromagnetism Review| March 27|\n",
    "|Midterm II|  | March 28 (Recitation time)|\n",
    "|Lecture 25| - AC Circuits I| March 29|\n",
    "|Lecture 26| - AC Circuits II| March 31|\n",
    "|Lecture 27| - Maxwell's Equations| Apr 3|\n",
    "|Lecture 28| - Electromagnetic Waves| Apr 5|\n",
    "|Lecture 29| - Reflection| Apr 7|\n",
    "|Lecture 30| - Refraction| Apr 10|\n",
    "|Lecture 31| - Lenses| Apr 12|\n",
    "|Lecture 32| - Optical Instruments| Apr 14|\n",
    "|Lecture 33| - Interference| Apr 17|\n",
    "|Lecture 34| - From interference to diffraction| Apr 19|\n",
    "|Lecture 35| - Diffraction| Apr 21|\n",
    "|Lecture 36| - Diffraction gratings and polarization| Apr 24|\n",
    "|Final Review Lecture 1|- Mostly diffraction, interference and polarization| Apr 26|\n",
    "|Lecture 37| - Manic Review!/delay buffer| Apr 28|\n",
    "|Lecture 39|- Manic Review!/delay buffer| May 1|\n",
    "|Lecture 40|- Manic Review!/delay buffer| May 3|\n",
    "|Lecture 41|- Manic Review!/delay buffer| May 5|\n",
    "| Final Exam|Friday may 12th 11:15-1:45 PM | May 12"
   ]
  },
  {
   "cell_type": "code",
   "execution_count": null,
   "id": "35a70a8e",
   "metadata": {},
   "outputs": [],
   "source": []
  }
 ],
 "metadata": {
  "kernelspec": {
   "display_name": "Python 3 (ipykernel)",
   "language": "python",
   "name": "python3"
  },
  "language_info": {
   "codemirror_mode": {
    "name": "ipython",
    "version": 3
   },
   "file_extension": ".py",
   "mimetype": "text/x-python",
   "name": "python",
   "nbconvert_exporter": "python",
   "pygments_lexer": "ipython3",
   "version": "3.9.10"
  }
 },
 "nbformat": 4,
 "nbformat_minor": 5
}
