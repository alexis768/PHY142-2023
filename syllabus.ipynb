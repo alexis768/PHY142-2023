{
 "cells": [
  {
   "cell_type": "markdown",
   "id": "e69dda9f",
   "metadata": {},
   "source": [
    "# PHY 142 CLASSICAL PHYSICS II -HONORS\n",
    "## <span style=\"color: red;\">*SYLLABUS*</span>"
   ]
  },
  {
   "cell_type": "markdown",
   "id": "04fee6f6",
   "metadata": {},
   "source": [
    "## Course Description\n",
    "\n",
    "**PHY141/142 Honors Classical Physics** is the honors section of a fast-paced, two-semester long, survey of classical physics, primarily for students\n",
    "majoring in Physics, Mathematics, or Engineering. Topics for the first semester include classical mechanics, oscillations and (sound) waves, fluids, and\n",
    "thermodynamics. The second semester discusses electricity, DC and AC currents, magnetism and electromagnetic waves, light, optics, and a few topics in\n",
    "modern physics.\n",
    "\n",
    "The course has three 55-minute lectures per week with quizzes and assigned homework. Homework (online) will be graded and counts towards the final grade.\n",
    "\n",
    "\n",
    "Co-requisite for PHY141 is PHY133. Co-requisite for PHY142 is PHY134; MAT 132 or 142 or 127 or 171 or AMS 161. Prerequisite for PHY142: a grade of\n",
    "C+ or higher in PHY141 or permission of the department.\n",
    "\n",
    "Because the course covers all of classical physics in only two semesters, students should expect a **heavy workload**. To succeed this course, students should be well-prepared and should expect to devote about **8-12 hr/week** to homework and laboratory preparation."
   ]
  },
  {
   "cell_type": "markdown",
   "id": "7b5002a2",
   "metadata": {},
   "source": [
    "## Learning Outcomes\n",
    "\n",
    "PHY141/142 aims to train the participants in independent and cross-disciplinary fact-based reasoning about basic natural phenomena, in particular\n",
    "phenomena in mechanics, wave propagation, fluid motion, thermodynamics, optics, electromagnetics, and atoms and molecules. Participants should\n",
    "develop a feel for using units, identify the important variables in a given physical situation, and make order of magnitude estimates. Students should\n",
    "develop a physics intuition and be able to solve basic physics questions, not encountered before, based on acquired and internalized knowledge"
   ]
  },
  {
   "cell_type": "markdown",
   "id": "605c0433",
   "metadata": {},
   "source": [
    "## Brightspace and Github\n",
    "\n",
    "Stony Brook's Brightspace (BS) Website is the location where course information and files are available. The course is listed under PHY142 Classical\n",
    "Physics II Honors - Spring 2023. \n",
    "\n",
    "BS will be used mostly for Homework and grading (Mastering Physics will be directly linked to the course)\n",
    "\n",
    "The official webpage for the course is in the [GitHub repository](https://github.com/marivifs-teaching/PHY142-2023)\n",
    "Files for lecture notes, Recitation quizzes, Formula sheets, Practice exams, etc. will be posted there.\n",
    "\n",
    " Lecture notes (in jupyter notebook format) will be posted a few days in advance of the lecture, beginning January 23.\n",
    "\n",
    "After the lecture, the updated lecture notes will be posted.\n",
    "All grades will be accessible on BS. "
   ]
  },
  {
   "cell_type": "markdown",
   "id": "1d707d11",
   "metadata": {},
   "source": [
    "## Faculty Information\n",
    "\n",
    "The instructor of the course is Marivi Fernandez-Serra (maria.fernandez-serra at stonybrook.edu).\n",
    "I will be available for office hours in person or zoom. The Office hours schedule will be published on the web page\n",
    "and on BS.\n"
   ]
  },
  {
   "cell_type": "markdown",
   "id": "44a04577",
   "metadata": {},
   "source": [
    "## Lectures and Recitations\n",
    "\n",
    "The course will be **in person** only. While there might be one or two instancs when the lectures might be delivered via zoon (mot possible this will not happen, but is an open option if I have to attend an in person conference elsewhere), all the students should assume that the lectures will be in person.\n",
    "\n",
    "* Lectures: MoWeFr 11:45AM - 12:40PM room P116, Physics building\n",
    "* Recitation: Tu 9:45AM - 11:05AM room SOCBEHAV SCI S228 or PHYB131 (Note the allocated time is 1h20 mins, but the recitation length will be only 55 min. We will use the extra time on exam days). The exact room location will be anounced in class.\n",
    "* Office Hours: Mo 4:30PM - 5:30PM room B139, Physics building.\n",
    "\n",
    "We will have Quizzes in some lectures. These count towards the course grade and are given to check students' understanding and to encourage discussions and class\n",
    "attendance. Each quiz question is worth 3 points when answered correctly, and 1 point if answered incorrectly. Unanswered quizzes count for zero. \n",
    "\n",
    "\n",
    "**Posted lecture material should be read before class**, and each class will have a quiz early in the lecture. You cannot be excused from attendance unless\n",
    "absent for a valid medical reason!"
   ]
  },
  {
   "cell_type": "markdown",
   "id": "22f732e9",
   "metadata": {},
   "source": [
    "## Required Materials\n",
    "* Text book: The text book for the course is Modified Mastering Physics for Physics for Scientists and Engineers with Modern Physics 5th Edition Author(s): Giancoli, Douglas Textbook ISBN-13: 9780321992277. The text book **is not required** but it is reccomended.\n",
    "\n",
    "* Mastering Physics: You need to purchase the access code to the \"Mastering Physics\" course for the on-line homework,\n",
    "[https://masteringphysics.com](https://masteringphysics.com/). The online code (with or without the textbook) can be purchased separatelly and it is valid for 3 semesters.\n",
    "\n",
    "To register for PHY142 (also [here](./Register-for-MyLab-and-Mastering-with-Brightspace.pdf)):\n",
    "\n",
    "Course name: fernandez-serra39058 (also named PHY142S23).\n",
    "\n",
    "[Here is additional information](https://mycourses.pearson.com/api/courses/handout/fernandez-serra39058)\n",
    "\n",
    "\n",
    "* Follow these steps to join your MyLab, Mastering, or NCCERconnect content through\n",
    "Brightspace.\n",
    "* Sign into Brightspace and select your Brightspace course.\n",
    "* Under Content Browser, select the Pearson module and link.\n",
    "* Select Open Pearson or the title of your Pearson content.\n",
    "* Agree to Pearson privacy policies or authentication requests.\n",
    "* Enter the Username and Password for your student Pearson account. Otherwise, select\n",
    "Create an account.\n",
    "* Select Link Accounts. If you see a confirmation page, select Continue.\n",
    "* Choose an access option (for example, pre-purchased access code, credit card, PayPal, or\n",
    "free 14-day temporary access).\n",
    "* Your Pearson content opens.\n",
    "* To go back to Brightspace, look for the Brightspace tab or window in your browser. That’s it.\n",
    "\n",
    "Throughout the semester, we recommend that you access your Pearson content through\n",
    "Brightspace. "
   ]
  },
  {
   "cell_type": "markdown",
   "id": "021b2307",
   "metadata": {},
   "source": [
    "## Homework\n",
    "\n",
    "### Web Homework and Web Access\n",
    "\n",
    "* Included with the text book comes access to www.MasteringPhysics.com. All homework (HW) problems will be assigned using this web-based system, which provides smart feedback and context-sensitive help and optional hints.\n",
    "\n",
    "* If you do not purchase the textbook, then you must purchase the access codes separately (valid for three semesters). With your Access Code go to: http://www.masteringphysics.com/ and Register. \n",
    "\n",
    "* To let us connect your HW grade with Brightspace, you must enter your Stony Brook ID number when requested. When asked for the text book, click on the book for this course (see above). The class/course code is PHY142S23 (fernandez-serra95733). If you have a valid access (MasteringPhysics access remains valid for 3 semesters), just use your existing password and register for the class. You are encouraged to discuss HW problems with your colleagues. However, you only hurt yourself if you simply copy answers. It is to your own benefit that we assign carefully chosen HW problems so you can exercise your knowledge and gain better understanding: true understanding only comes via solving real-world problems (as I hope you know by now), and HW problems reflect (pieces of) real-world problems. \n",
    "\n",
    "* Exam problems will be based on Quizzes, Lecture examples, and HW problems, so fully understanding the solutions is key to passing this course. Therefore, it is crucial (even if HW only counts for a small fraction of the course grade), that you do all problems on your own (even after having discussed them at length with colleagues or TAs). \n",
    "\n",
    "* Beware: in the past, we have seen excellent correlation between success in HW and success in the exams. There are, however, a few outliers - poor course results with almost perfect HW scores - and we strongly suspect (reviewing the other course components in these cases) that these are instances of blindly copied HW solutions."
   ]
  },
  {
   "cell_type": "markdown",
   "id": "94098271",
   "metadata": {},
   "source": [
    "## Exams and Grading\n",
    "\n",
    "**Three exams** are scheduled. The exams will consist of Word Problems similar to problems\n",
    "discussed in class and done in the Homework. Exams are cumulative, but relatively more problems will be from the newer material. \n",
    "\n",
    "\n",
    "\n",
    "|Exam|Relative Weight|\n",
    "|----|------------|\n",
    "|Midterm I|20%|\n",
    "|Midterm II|20%|\n",
    "|Final|30%|\n",
    "|Quizzes|5%|\n",
    "|WebHW|20%|\n",
    "|Special Project (Extra Credit)|5%|\n",
    "\n",
    "Grading will **NOT** be on a curve.\n",
    "Letter grade correspondence to numerical grade: A(85%<Grade<100%), A- (75%<Grade<85%), B+ (70%<Grade<75%), B (65%<Grade<70%), B- (60%<Grade<65%), C+ (55%<Grade<60%), C (45%<Grade<55%), D+ (40%<Grade<45%), D (35%<Grade<40%), F (Grade<35%).\n"
   ]
  },
  {
   "cell_type": "markdown",
   "id": "d44bdf13",
   "metadata": {},
   "source": [
    "## Academic Integrity\n",
    "\n",
    "Each student must pursue his or her academic goals honestly and be personally accountable for all submitted work. Representing another person's work as your own is always wrong. Faculty is required to report any suspected instances of academic dishonesty to the Academic Judiciary. Faculty in the Health Sciences Center (School of Health Technology & Management, Nursing, Social Welfare, Dental Medicine) and School of Medicine are required to follow\n",
    "their school-specific procedures. For more comprehensive information on academic integrity, including categories of academic dishonesty please refer to the academic judiciary website at http://www.stonybrook.edu/commcms/academic_integrity/index.html.\n",
    "\n",
    "## Electronic Communication\n",
    "Email to your University email account is an important way of communicating with you for this course. For most students the email address is ‘firstname.lastname@stonybrook.edu’. It is your responsibility to read your email received at your University account; if you choose to forward your University email to another account, we are not responsible for any undeliverable messages.\n",
    "\n",
    "## Religious Observances\n",
    "See the policy statement regarding religious holidays [here](http://www.stonybrook.edu/registrar/forms/RelHolPol%20081612%20cr.pdf). Students are expected\n",
    "to notify the course professors by email of their intention to take time out for religious observance. This should be done as soon as possible but definitely before the end of the ‘add/drop’ period. At that time they can discuss with the instructor(s) how they will be able to make up the work covered.\n",
    "\n",
    "## Student Accessibility Support Center Statement\n",
    "If you have a physical, psychological, medical, or learning disability that may impact your course work, please contact the Student Accessibility Support Center, 128 ECC Building, (631) 632-6748, or at sasc@stonybrook.edu. They will determine with you what accommodations are necessary and appropriate. All information and documentation is confidential.\n",
    "\n",
    "## Critical Incident Management\n",
    "Stony Brook University expects students to respect the rights, privileges, and property of other people. Faculty are required to report to the Office of\n",
    "University Community Standards any disruptive behavior that interrupts their ability to teach, compromises the safety of the learning environment, or inhibits\n",
    "students' ability to learn. Faculty are required to follow school-specific procedures as described in http://www.stonybrook.edu/commcms/emergency/critical_incident.shtml"
   ]
  }
 ],
 "metadata": {
  "kernelspec": {
   "display_name": "Python 3 (ipykernel)",
   "language": "python",
   "name": "python3"
  },
  "language_info": {
   "codemirror_mode": {
    "name": "ipython",
    "version": 3
   },
   "file_extension": ".py",
   "mimetype": "text/x-python",
   "name": "python",
   "nbconvert_exporter": "python",
   "pygments_lexer": "ipython3",
   "version": "3.9.10"
  }
 },
 "nbformat": 4,
 "nbformat_minor": 5
}
