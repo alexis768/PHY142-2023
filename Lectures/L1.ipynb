{
 "cells": [
  {
   "cell_type": "markdown",
   "id": "ae70142d",
   "metadata": {},
   "source": [
    "## Lecture 1 - Electric Charge\n",
    "\n",
    "In this lecture we will deduce the existence of electric charge and some of it's most basic properties from observations related to static electricity.\n",
    "\n"
   ]
  },
  {
   "cell_type": "markdown",
   "id": "0cd35441",
   "metadata": {},
   "source": [
    "### Electric charges\n",
    "\n",
    "\n",
    "In modern times we take for granted certain concepts related to electric charge.\n",
    "\n",
    "At the most basic level\n",
    " * Charge can be either positive or negative.\n",
    " * Like charges repel and unlike charges attract.\n",
    " \n",
    "On a microscopic level\n",
    "* There are fundamental particles which have equal and opposite charges, the electron and the proton.\n",
    "* In an atom there is a positive nucleus surrounded by a “cloud” of electrons.\n",
    "\n",
    "As scientists we should not merely accept these facts but carefully consider the observations that allow us to make these conclusions. We will begin by demonstrating the first two basic concepts using static electricity.\n"
   ]
  },
  {
   "cell_type": "markdown",
   "id": "2b88f8e4",
   "metadata": {},
   "source": [
    "### Static Electricity\n",
    "\n",
    "[static electricity](https://en.wikipedia.org/wiki/Static_electricity) describes a build up of charge on an object. We are all familiar with contact induced transfer of charge between objects or [Triboelectricity](https://en.wikipedia.org/wiki/Triboelectric_effect)\n",
    "\n",
    "The ancient Greeks knew that amber rubbed with wool would then attract small objects, and the word electricity comes from this effect the (Greek word for amber is elektron). However to understand why such a thing should happen we need to invoke our modern understanding of atomic structure.\n",
    "[Amber](https://en.wikipedia.org/wiki/Amber) is fossilized tree resin and is a macromolecule formed by the polymerization of different carbon compounds found in tree resin. The atoms in these compounds have fairly empty outer shells. In common with many modern plastics this means it has a tendency to pick up electrons and develop a negative electric charge when put into contact with a materials that has loosely bound electrons. Fur, hair, silk and synthetic fibres such as nylon tend to be on the other side of the series, ie. they readily give up electrons to develop a positive charge. Glass and human skin are also examples of materials that readily acquire a positive charge.\n",
    "\n",
    "The rubbing that we normally associate with building up static is not essential for charge transfer, it simply generates a large number of contact-decontact events which allow charge to be transferred from one object to the other.\n",
    "\n",
    "### Examples of Triboelectric effects:\n",
    " * [Rubbing plastic and glass with cloth or fur](https://en.wikipedia.org/wiki/Triboelectric_effect)\n",
    " * Scotch Tape [plenty of demos online](https://www.acs.org/education/whatischemistry/adventures-in-chemistry/experiments/great-electron-ripoff.html)"
   ]
  },
  {
   "cell_type": "markdown",
   "id": "d2db7300",
   "metadata": {},
   "source": [
    "### Conduction\n",
    "Charges on an object will behave differently depending on the conduction properties of a material.\n",
    "\n",
    "Insulators can maintain a charge distribution that is produced on them as the charge is not free to move around in the materials. Usually the charge on an object is eventually dissipated by contact with water (which is a polar molecule) in the atmosphere. You are much more likely to get static shock on a dry day!\n",
    "\n",
    "On the other hand, in a good conductor, such as a metal, the electrons are free to move around, and will therefore, if the metal object is isolated, distribute themselves uniformly on the surface of the object (given that like charges repel and they would like to be as far away from each other as possible).\n",
    "\n"
   ]
  },
  {
   "cell_type": "markdown",
   "id": "61d177b3",
   "metadata": {},
   "source": [
    "### Electrostatic induction\n",
    "[Electrostatic induction](https://en.wikipedia.org/wiki/Electrostatic_induction) describes charge accumulations that come about when a charged object is brought in to proximity with another object\n",
    "\n",
    "The ability of the charges in a conductor to readily redistribute gives rise to significant induced charge when a charged object is brought close to a metallic object.\n",
    "\n",
    "Insulators may also develop an induced charge, but in this case the charge is redistributed within the atoms or molecules of the material, rather than throughout the entire object."
   ]
  },
  {
   "cell_type": "markdown",
   "id": "6b2b5998",
   "metadata": {},
   "source": [
    "### The electroscope\n",
    "An [electroscope](https://en.wikipedia.org/wiki/Electroscope) is a simple device for measuring the charge on an object.\n",
    "\n",
    "Whether it is the pith ball or gold leaf type the device relies on the principle of electrostatic induction. To be able to determine the sign of the charge on an object some of the charge should be transferred to the electroscope and then an object with known charge should be brought in to proximity to the electroscope. The sign of the charge can then be deduced from the reaction of the electroscope. The reverse is also true, if the sign of charge on an electroscope is known it can be used to determine the sign of charge on an unknown object.\n",
    "![electroscope_showing_induction](images/electroscope_showing_induction.png)\n",
    "![pithball_electroscope.png](images/pithball_electroscope.png)"
   ]
  },
  {
   "cell_type": "markdown",
   "id": "a45b0ab7",
   "metadata": {},
   "source": [
    "### Electrophorus\n",
    "An [Electrophorus](https://en.wikipedia.org/wiki/Electrophorus) is a device that using triboelectricity and electrostatic induction can be used to generate charge on an object.\n",
    "![300px-Electrophorus_cutaway.png](images/300px-Electrophorus_cutaway.png)\n",
    "![300px-Electrophorus.png](images/300px-Electrophorus.png)"
   ]
  },
  {
   "cell_type": "markdown",
   "id": "c260c743",
   "metadata": {},
   "source": [
    "### Dependence of the electric force on distance\n",
    "So far we should have been able to convince ourselves of the truth of our initial two basic concepts, the existence of electric charges of two signs, with like charges repelling each other and unlike charges attracting each other. We have also seen that the force between electric charges acts at a distance. The [demonstration that the dependence of the force on the distance between charges goes as](https://www.aps.org/publications/apsnews/201606/physicshistory.cfm#:~:text=By%20bringing%20a%20similarly%20charged,quantitative%20study%20of%20electric%20force.) $1/r^2$\n",
    " was achieved by Charles-augustin de Coulomb. This was achieved through the invention of the torsion balance by Coulomb himself.\n",
    " ![coulomb_balance.png](images/coulomb_balance.png)"
   ]
  },
  {
   "cell_type": "markdown",
   "id": "b3a5223f",
   "metadata": {},
   "source": [
    "### Coulomb's Experiments"
   ]
  },
  {
   "cell_type": "markdown",
   "id": "b9048971",
   "metadata": {},
   "source": [
    "### Coulombs Law\n",
    "\n",
    "Based upon his [experiment](https://www.youtube.com/watch?v=n_yFeIKhsvI) Coulomb stated “The magnitude of the Electrostatics force of interaction between two point charges is directly proportional to the scalar multiplication of the magnitudes of charges and inversely proportional to the square of the distances between them.”\n",
    "\n",
    "Writing this in the form of an equation gives $\\vec{F}=\\frac{kQ_1Q_2}{r_{12}^2}$ where k=8.99$\\times 10^9$ $Nm^2/C^2$\n",
    "\n",
    "In writing this equation we have also introduced a unit for charge, the Coulomb (C). This is a very large amount of charge! An electron carries a charge of \n",
    "$e=1.602\\times10^{-19}C$\n",
    "\n",
    "\n",
    "The proportionality constant \n",
    "k\n",
    " can be written $k=\\frac{1}{4\\pi\\epsilon_0}$ where $\\epsilon_0$ is the permittivity of free space $\\epsilon_0 = 8.85\\times 10^{12}C^2/Nm^2$\n",
    ", and the utility of this constant will be seen later in the course.\n",
    "\n",
    "Note that in any given case a charge exerts an equal and opposite force on another charge to the force that the other charge exerts on it, and thus satisfies Newton's third law.\n",
    "\n",
    "\n",
    "\n",
    "Like all forces, electric forces are vectors. We will cover addition of electric forces and introduce electric fields in the next lecture."
   ]
  }
 ],
 "metadata": {
  "kernelspec": {
   "display_name": "Python 3 (ipykernel)",
   "language": "python",
   "name": "python3"
  },
  "language_info": {
   "codemirror_mode": {
    "name": "ipython",
    "version": 3
   },
   "file_extension": ".py",
   "mimetype": "text/x-python",
   "name": "python",
   "nbconvert_exporter": "python",
   "pygments_lexer": "ipython3",
   "version": "3.9.10"
  }
 },
 "nbformat": 4,
 "nbformat_minor": 5
}
