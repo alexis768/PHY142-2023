{
 "cells": [
  {
   "cell_type": "markdown",
   "id": "55a2e5f3",
   "metadata": {},
   "source": [
    "## Lecture 11 - Conduction and Electric Power"
   ]
  },
  {
   "cell_type": "markdown",
   "id": "c13bbc2f",
   "metadata": {},
   "source": [
    "### Field in a current carrying wire\n",
    "\n",
    "When dealing with conductors in electrostatics we said there could not be a field inside a conductor. This is only true if there is no current flowing. If we consider a wire of length $l$ with a potential difference $V$ from one end to the other there will be a field inside the wire with magnitude $E=\\frac{V}{l}$.\n",
    "\n",
    "Note that $V=V_{xb} -V_{xa}=-\\int_{xa}{xb} E dl = -E*(xa-xb)=El$\n",
    "\n",
    "\n",
    "If we think about a microscopic picture of a conductor, we can imagine free electrons which move randomly at high speeds. When one applies a field to the electrons, they are accelerated in the direction opposite to the field (remember the current will be in the opposite direction to the net movement of the electrons). However their speed is limited by collisions with atoms in the wire. The velocity they achieve is called the [drift velocity](https://en.wikipedia.org/wiki/Drift_velocity) $\\vec{v}_{d}$ which will be directed against the direction of the field."
   ]
  },
  {
   "cell_type": "markdown",
   "id": "84435b3c",
   "metadata": {},
   "source": [
    "### Current density\n",
    "\n",
    " Suppose we have a wire carrying a current $I$. \n",
    "\n",
    " A useful quantity for us to define, especially if we want to consider the microscopic details of conduction, is the current density $\\vec{j}$ which describes the magnitude and direction of the amount of current flowing per unit area at a given point inside a material. \n",
    "\n",
    " In general $I=\\int\\vec{j}\\cdot d\\vec{A}$\n",
    "\n",
    " and for a uniform wire with cross-sectional area $A$, $I=jA$ or $j=\\frac{I}{A}$\n",
    "\n",
    " If we take Ohm's law, $V=IR$, we can see it can be rewritten as\n",
    "$El=(jA)(\\rho\\frac{l}{A})=j\\rho l \\to j=\\frac{1}{\\rho}E=\\sigma{E}$\n",
    "\n",
    " We can note from this equation that in either the case of zero current or zero resistance the field in the conductor should be zero, but for any normal metal a field is required to drive a current, and there will be a change of potential from one end of the wire to the other."
   ]
  },
  {
   "cell_type": "markdown",
   "id": "981bbf50",
   "metadata": {},
   "source": [
    "### Microscopic picture of conduction\n",
    "\n",
    "![im.png](images/VdriftArea.png)\n",
    "\n",
    "On average, in a time interval $\\Delta t$ an electron will travel a distance $l=v_{d}\\Delta t$. \n",
    "\n",
    "\n",
    "We can define a cylindrical volume $Al$ in which there will be $n$ electrons per unit volume (the same electron density as in the conductor as a whole, which for some metals can be estimated as one electron per atom, see [here for an example](http://hyperphysics.phy-astr.gsu.edu/hbase/electric/ohmmic.html)). The amount of charge which exits this volume (while an equal and opposite amount enters at the other end) in a time interval $\\Delta t$ is \n",
    "\n",
    "$\\Delta Q = -(nv_{d}A\\Delta t)e$\n",
    "\n",
    "where $e$ is the charge on an electron.\n",
    "\n",
    "\n",
    "\n",
    "![im.png](images/Efcurrent.png)\n",
    "\n",
    "The current is given by\n",
    "\n",
    "$I=\\frac{\\Delta Q}{\\Delta t}=-nev_{d}A$\n",
    "\n",
    "and the current density is given \n",
    "\n",
    "$j=-nev_{d}$ or $\\vec{j}=-ne\\vec{v}_{d}$\n",
    "\n",
    "If there is more than one kind of carrier present then \n",
    "\n",
    "$\\vec{j}=\\sum_{i}n_{i}q_{i}\\vec{v}_{d}$\n"
   ]
  },
  {
   "cell_type": "markdown",
   "id": "260397c9",
   "metadata": {},
   "source": [
    "### Drift velocity and field\n",
    "\n",
    "We now have two relationships for the current density in a conductor\n",
    "\n",
    "$j=\\frac{1}{\\rho}E=\\sigma{E}$\n",
    "\n",
    "and\n",
    "\n",
    "$j=-nev_{d}$\n",
    "\n",
    "as neither the charge density or charge on an electron in a conductor should depend on field we can come to the conclusion that for an ohmic conductor the drift velocity depends linearly on field\n",
    "\n",
    "$v_{d}=\\mu E$\n",
    "\n",
    "where $\\mu$ is a quantity called the electron mobility and is measured in $\\mathrm{\\frac{m^{2}}{Vs}}$.\n",
    "\n",
    "\n",
    "\n",
    "![im.png](images/Efvdrift.png)\n"
   ]
  },
  {
   "cell_type": "markdown",
   "id": "dbc5530f",
   "metadata": {},
   "source": [
    "### Superconductivity\n",
    "\n",
    "In a conventional conductor the mobility is limited by scattering events, but this is not the case in a [superconductor](https://en.wikipedia.org/wiki/Superconductivity), where some electrons form  [Cooper pairs](https://en.wikipedia.org/wiki/Cooper_pair). These paired electrons can form a [Bose-Einstein Condensate](https://en.wikipedia.org/wiki/Bose–Einstein_condensate) (unlike regular electrons which cannot have the same quantum state due to the [Pauli exclusion principle](https://en.wikipedia.org/wiki/Pauli_exclusion_principle)). The key result that leads to zero resistance is that scattering events are quantum mechanically forbidden for electrons in the Bose-Einstein condensate because the amount of energy provided to an electron in a scattering event would not be sufficient for it exceed the minimum energy quantum mechanically required for it to leave the condensate."
   ]
  },
  {
   "cell_type": "markdown",
   "id": "bf1b1912",
   "metadata": {},
   "source": [
    "### Electric Power\n",
    "\n",
    "When an infinitesimal amount of charge $dq$ moves through a potential $V$ the change in the potential energy of the charge is\n",
    "\n",
    "$dU=Vdq$\n",
    "\n",
    "The work done on the charge is $dW=-dU=-Vdq$, the work done **by** the charge is equal to $dU$.\n",
    "\n",
    "We can recall that power is the rate at which work is done (P=W/t), and so \n",
    "\n",
    "$P=\\frac{dU}{dt}=\\frac{dq}{dt}V=IV$\n",
    "\n",
    "The above is a general relationship, for an ohmic conductor **only**, where $V=IR$\n",
    "\n",
    "$P=VI=I^{2}R=\\frac{V^{2}}{R}$\n",
    "\n",
    "We should be careful here, the power dissipated in a given component needs to be calculated using only the potential change from one end to other!"
   ]
  },
  {
   "cell_type": "markdown",
   "id": "a8b435bb",
   "metadata": {},
   "source": [
    "### Kilowatt-Hours\n",
    "\n",
    "We learned last semester that the unit of power is the Watt ($\\mathrm{W}$, equivalent to  $\\mathrm{\\frac{J}{s}}$).\n",
    "\n",
    "While at any given time in our homes we might be using a certain amount electrical power, measured in Watts, we pay for the integral of power with respect to time, which is a certain amount of energy.\n",
    "\n",
    "The unit used for this is a non SI-unit, the kilowatt-hour, which is equivalent to $1000\\mathrm{W}\\times3600\\mathrm{s}=3.6\\times10^{6}\\mathrm{J}$"
   ]
  },
  {
   "cell_type": "markdown",
   "id": "0474107a",
   "metadata": {},
   "source": [
    "### AC Electricity\n",
    "\n",
    "It's fairly easy to see how we can get work from a direct current, however we know that the [mains power](https://en.wikipedia.org/wiki/Mains_electricity) is an alternating current, with the voltage cycling from positive to negative and back 60 times every second, in other words, with a [frequency of 60Hz](https://en.wikipedia.org/wiki/Utility_frequency) (in much of the world the frequency is 50Hz instead).\n",
    "\n",
    "![im.png](images/worldpower.png)"
   ]
  },
  {
   "cell_type": "markdown",
   "id": "8b6df2fc",
   "metadata": {},
   "source": [
    "### AC power\n",
    "\n",
    "The voltage which produces an AC current may be described by the equation\n",
    "\n",
    "$V=V_{0}\\sin2\\pi f t=V_{0}\\sin\\omega t$\n",
    "\n",
    "$V_{0}$ is the peak voltage, this is not the value of the voltage we typically refer to when talking about mains power. The 120 V we normally refer to is the rms (root-mean square) voltage. If we are considering the potential across an ohmic conductor, then $V=IR$ and\n",
    "\n",
    "$I=\\frac{V}{R}=\\frac{V_{0}}{R}\\sin\\omega t=I_{0}\\sin\\omega t$\n",
    "\n",
    "The power is then \n",
    "\n",
    "$P=VI=I^{2}R=I_{0}^{2}R\\sin^{2}\\omega t$\n",
    "\n",
    "We can see that this is always positive, this is because the current changes sign in phase with the voltage. The average value of the power is found by taking the average value of $\\sin^{2}\\omega t$ which is $\\frac{1}{2}$\n",
    "\n",
    "$\\bar{P}=\\frac{1}{2}I_{0}^{2}R=\\frac{1}{2}\\frac{V_{0}^{2}}{R}$\n",
    "\n",
    "As the root mean square voltage and current are  $V_{rms}=\\frac{V_{0}}{\\sqrt{2}}$ and $I_{rms}=\\frac{I_{0}}{\\sqrt{2}}$\n",
    "\n",
    "$\\bar{P}=I_{rms}V_{rms}=I_{rms}^{2}R=\\frac{V_{rms}^{2}}{R}$\n",
    "\n",
    "![im.png](images/rmsgraph.png)"
   ]
  },
  {
   "cell_type": "markdown",
   "id": "6de6e803",
   "metadata": {},
   "source": [
    "### AC vs DC\n",
    "\n",
    "We have seen that power can be obtained from either AC or DC currents. It's worth thinking about why AC was chosen as the standard for the electrical grid. This was not initially an obvious choice, [the war of the currents](https://www.energy.gov/articles/war-currents-ac-vs-dc-power) is a famous dispute between Edison (DC) and Tesla (AC).\n",
    "\n",
    "If I want to transmit a given amount of current $P$ through a wire, the power is given by $P=VI$. The amount of power lost in transmitting it from the source to another point can be obtained by considering the  resistance of the wire between the points $R$ and the current through the wire, and we find that\n",
    "\n",
    "$P_{lost}=I^{2}R$\n",
    "\n",
    "The amount of power lost is proportional to the square of the current, and the higher the voltage used the lower the current. We should note that it is incorrect to use\n",
    "\n",
    "$P_{lost}=\\frac{V^{2}}{R}$\n",
    "\n",
    "if $V$ refers to the total potential difference across the whole system, the potential difference from one end of a transmission line to another will be much less than this. \n",
    "\n",
    "As the power lost scales with the square of the current it is  more efficient to transmit power using a higher voltage and lower current, and the reason for choosing AC is because using electromagnetic induction (coming up in a few weeks) one can easily step an AC voltage up and down. While high voltages are great for long distance transmission they would be incredibly dangerous in the home!"
   ]
  },
  {
   "cell_type": "code",
   "execution_count": null,
   "id": "ff010968",
   "metadata": {},
   "outputs": [],
   "source": []
  },
  {
   "cell_type": "code",
   "execution_count": null,
   "id": "50d03d0d",
   "metadata": {},
   "outputs": [],
   "source": []
  }
 ],
 "metadata": {
  "kernelspec": {
   "display_name": "Python 3 (ipykernel)",
   "language": "python",
   "name": "python3"
  },
  "language_info": {
   "codemirror_mode": {
    "name": "ipython",
    "version": 3
   },
   "file_extension": ".py",
   "mimetype": "text/x-python",
   "name": "python",
   "nbconvert_exporter": "python",
   "pygments_lexer": "ipython3",
   "version": "3.9.10"
  }
 },
 "nbformat": 4,
 "nbformat_minor": 5
}
