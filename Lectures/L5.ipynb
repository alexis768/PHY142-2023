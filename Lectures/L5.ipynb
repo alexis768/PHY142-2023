{
 "cells": [
  {
   "cell_type": "markdown",
   "id": "04202991",
   "metadata": {},
   "source": [
    "## Calculating Electric Fields (Summary)"
   ]
  },
  {
   "cell_type": "markdown",
   "id": "57b92d04",
   "metadata": {},
   "source": [
    "### Electric field from charge\n",
    "The field from a point charge is a vector $\\vec{E}$ which has magnitude \n",
    "\n",
    "$E=\\frac{1}{4\\pi\\epsilon_{0}}\\frac{Q}{r^{2}}$\n",
    "\n",
    "and when $Q$ is positive points radially outwards from the charge.\n",
    "\n",
    "You could write this as \n",
    "\n",
    "$\\vec{E}=E\\hat{r}$\n",
    "\n",
    "where $\\hat{r}$ is a unit vector pointing away from the charge.\n",
    "\n",
    "For a negative charge, Q is negative so the multiplication of the negative scalar with the outward $\\hat{r}$ vector results in a field $\\vec{E}$ that points inward towards the charge.\n"
   ]
  },
  {
   "cell_type": "markdown",
   "id": "60865b12",
   "metadata": {},
   "source": [
    "### Field from an element of charge\n",
    "The field from an element of charge, \n",
    "\n",
    "$\\vec{dE}=dE\\,\\hat{r}$\n",
    "\n",
    "which also points radially outwards from the charge element has magnitude\n",
    "\n",
    "$dE=\\frac{1}{4\\pi\\epsilon_{0}}\\frac{dq}{r^{2}}$\n",
    "\n",
    "If we want to find the field directly from a distribution of charge we can integrate over the charged distribution, but we have to be careful to do take in to account the vector nature of the field! In principle if we want to find the total field vector we need to integrate taking into account the direction. In a 3 dimensional coordinate system with no symmetry this would be 3 integrals, one for each vector in our coordinate system and each vector would contain some relationship to define the component of field that points from the charge we are looking at to the point where we want to know the field. \n",
    "\n",
    "We will <strong>not</strong> do general problems like this because they are way too hard.\n",
    "\n",
    "We will only tackle problems using direct integration of charge to obtain field where there is cancellation of components of the field from different parts of the charge distribution. \n",
    "\n"
   ]
  },
  {
   "cell_type": "markdown",
   "id": "f5a40db2",
   "metadata": {},
   "source": [
    "### What needs to go inside the integral?\n",
    "\n",
    "Confusion often arises over what is constant and what needs to be integrated over. When calculating fields by direct integration using the integral $E=\\int dE=\\frac{1}{4\\pi\\epsilon_{0}}\\int\\frac{dq}{r^{2}}$ the question we need to ask is, does the distance of the charge from the point where we want to know the field change as we move in the charge distribution? If so we need to express the distance $r$ from the charge in terms of the variable over which we are integrating (see the example of the line of charge in [L2)](https://github.com/marivifs-teaching/PHY142-2023/blob/main/Lectures/L2.ipynb). If not, $\\frac{1}{r^{2}}$ can be moved outside the integral.\n",
    "\n",
    "This was the key difference between the ring of charge integral and the line of charge integral.\n",
    "\n"
   ]
  },
  {
   "cell_type": "markdown",
   "id": "b432db90",
   "metadata": {},
   "source": [
    "### Integration over a charge distrbution\n",
    "\n",
    "Suppose we want to integrate over a distribution of charge. What does $\\int dq$ really mean?\n",
    "\n",
    "* For a line of charge $\\int dq = \\int \\lambda\\,dx$ <br/>\n",
    "\n",
    "* For a sheet of charge $\\int dq = \\int \\sigma\\,dA$ <br/>\n",
    "\n",
    "* For volume of charge $\\int dq =\\int \\rho\\,dV$\n",
    "\n",
    "If the charge density is uniform with respect to the variable being integrated over, then it can be taken out of the integral, if not then it needs to be included in the integral.\n",
    "\n",
    "Depending on the symmetry of the problem we might choose to integrate over Cartesian coordinates or polar coordinates, so for example,\n",
    "\n",
    "* for a rectangular sheet of charge $\\int dq = \\int \\sigma\\,dA=\\int \\int \\sigma \\,dx\\,dy$\n",
    "\n",
    "* for a circular sheet of charge $\\int dq = \\int \\sigma\\,dA=\\int \\int \\sigma r\\,dr\\,d\\theta$\n",
    "\n",
    "Typically we have considered situations where one of these integrals is already done, for example when considering a uniform disk we first did the integral over $\\theta$ for a given radius (integral over a ring) and then integrated this result over the radius for a disk"
   ]
  },
  {
   "cell_type": "markdown",
   "id": "ddc5bbf0",
   "metadata": {},
   "source": [
    "### Gauss' Law\n",
    "$\\Phi_{E}=\\oint\\vec{E}.d\\vec{A}=\\frac{Q}{\\varepsilon_{0}}$\n",
    "\n",
    "Gauss' law will often give us a better way to evaluate the field for a distribution of charge, because on the right hand side we only need to evaluate the total amount of charge, we don't need to consider the direction or the distance of the field from the charge to the point at which we need to know the field. \n",
    "\n",
    "The most important step is to choose an appropriate Gaussian surface which reflects the symmetry of the charge. We should remember that the Gaussian surface must be a closed surface, and so it may be composed of more than one surface. If possible we want to choose the surfaces so that the field on each surface is uniform and we don't have to actually any integration over the surface. \n",
    "It's important to remember that flux has a sign - it is positive when it is leaving the volume, and negative when entering (as the $\\vec{A}$ always points out). \n",
    "\n",
    "In this course we will consider only 3 kinds of symmetry when applying Gauss's Law.\n",
    "\n"
   ]
  },
  {
   "cell_type": "markdown",
   "id": "3cf7bf46",
   "metadata": {},
   "source": [
    "### Spherical symmetry\n",
    "\n",
    "![im.png](images/sphericalgausssurface.png)\n",
    "\n",
    "If the field points in/out radially from the center of the sphere\n",
    "\n",
    "\n",
    "$\\oint\\vec{E}.d\\vec{A}=\\oint E\\,dA$\n",
    "\n",
    "\n",
    "and if it is uniform over the surface\n",
    "\n",
    "\n",
    "$\\oint E\\,dA=E \\oint dA=E4\\pi r^{2}$\n",
    "\n",
    "\n",
    "\n",
    "![im.png](images/sphericalshell.png)\n",
    "\n",
    "To find the enclosed charge\n",
    "\n",
    "\n",
    "$Q=\\int\\int\\int\\rho\\,dV$\n",
    "\n",
    "\n",
    "In cases where $\\rho$ is either constant or only depends on r\n",
    "\n",
    "For a spherical volume the integral $\\int\\int\\int\\rho\\,dV=\\int\\rho A dr=\\int\\rho 4\\pi r^{2}dr$\n"
   ]
  },
  {
   "cell_type": "markdown",
   "id": "6ec4319e",
   "metadata": {},
   "source": [
    "### A spherical example\n",
    "\n",
    "![im.png](images/phy142m1fig2.png)\n",
    "\n",
    "A insulating sphere of radius $r_{1}$ has a total positive charge Q which is evenly distributed throughout, except for in the center of the sphere where there is  a spherical cavity of radius $r_{0}$ which contains no charge.  Let $r$ be the distance of  a point from the center of the sphere. Write your answers in terms of $Q$, $r$, $r_{1}$, $r_{0}$ and $k$ or $\\varepsilon_{0}$.\n",
    "\n",
    "* What is the electric field $E(r)$ for points $r<r_{0}$?\n",
    "$E=0$\n",
    "\n",
    "* What is the electric field $E(r)$ for points $r_{0}<r<r_{1}$?\n",
    "\n",
    "$E4\\pi r^2=\\frac{1}{\\varepsilon_{0}}\\int_{r_{0}}^{r}\\rho 4\\pi r^{2}\\,dr=\\frac{\\rho}{\\varepsilon_{0}}\\frac{4\\pi}{3}(r^{3}-r_{0}^3)$\n",
    "\n",
    "$E=\\frac{\\rho}{\\varepsilon_{0}}\\frac{1}{3r^{2}}(r^{3}-r_{0}^3)$\n",
    "\n",
    "$\\rho=\\frac{Q}{\\frac{4}{3}\\pi r_{1}^{3}-\\frac{4}{3}\\pi r_{0}^{3}}$\n",
    "\n",
    "$E=\\frac{1}{4\\pi\\varepsilon_{0}r^{2}}Q\\frac{r^{3}-r_{0}^{3}}{r_{1}^3-r_{0}^{3}}=\\frac{1}{4\\pi\\varepsilon_{0}}\\frac{Q}{r_{1}^{3}-r_{0}^{3}}(r-\\frac{r_{0}^{3}}{r^{2}})$\n",
    "\n",
    "* What is the electric field $E(r)$ for points $r>r_{1}$?\n",
    "\n",
    "$E=\\frac{1}{4\\pi\\varepsilon_{0}}\\frac{Q}{r^{2}}$\n",
    "\n",
    "* Make a rough sketch of the electric field  $E(r)$ against $r$. Make sure to label  $r_{0}$ and $r_{1}$ on your sketch. \n",
    "\n",
    "![im.png](images/spherewithcavityfieldr.png)"
   ]
  },
  {
   "cell_type": "markdown",
   "id": "a469abfd",
   "metadata": {},
   "source": [
    "### Cylindrical symmetry\n",
    "\n",
    "![im.png](images/linechargegauss.png)\n",
    "\n",
    "If we consider a field that has cylindrical symmetry so that the flux through the end circular surfaces is zero and for the curved surface\n",
    "\n",
    "$\\oint\\vec{E}.d\\vec{A}=\\oint E\\,dA$\n",
    "\n",
    "As the field is uniform over the surface\n",
    "\n",
    "$\\oint E\\,dA=E \\oint dA=E2\\pi rl$\n",
    "\n",
    "![im.png](images/cylindricalshells.png)\n",
    "\n",
    "To find the enclosed charge\n",
    "\n",
    "$Q=\\int\\int\\int\\rho\\,dV$\n",
    "\n",
    "In cases where $\\rho$ is either constant or only depends on r\n",
    "\n",
    "$Q=\\int\\int\\int\\rho\\,dV=\\int\\rho A dr=\\int\\rho 2\\pi r l dr$\n"
   ]
  },
  {
   "cell_type": "markdown",
   "id": "3bc96133",
   "metadata": {},
   "source": [
    "### A cylindrical example\n",
    "\n",
    "![im.png](images/phy142finalfig1.png)\n",
    "\n",
    "A long cylinder of charge has a uniform volume charge density $\\rho$ and radius $R_{1}$. Give your answers to the following questions in terms of some or all of the  variables $\\rho$, $r$, $ \\varepsilon_{0}$, $R_{1}$, and $R_{2}$.\n",
    "\n",
    "* A. Write an expression for the electric field as a function of the distance from the center of the cylinder, $r$, for $0<r \\leq R_{1}$.\n",
    "\n",
    "$E2\\pi rl=\\int_{0}^{r}\\rho 2\\pi r l dr=\\frac{\\rho \\pi r^{2} l}{\\varepsilon_{0}}$\n",
    "\n",
    "$E=\\frac{\\rho r}{2\\varepsilon_{0}}$\n",
    "\n",
    "* B. Write an expression for the electric field as a function of the distance from the center of the cylinder, $r$, for $r>R_{1}$.\n",
    "\n",
    "$E2\\pi rl=\\int_{0}^{R_{1}}\\rho 2\\pi r l dr=\\frac{\\rho \\pi R_{1}^{2} l}{\\varepsilon_{0}}$\n",
    "\n",
    "$E=\\frac{\\rho R_{1}^{2}}{2r\\varepsilon_{0}}$\n",
    "\n",
    "* C. Plot $E$ as a function of $r$ for the situation considered in (a) and (b).\n",
    "\n",
    "\n",
    "* D. I wish to surround the cylinder by a thin cylindrical sheet of charge such that there is no electric field outside the sheet. The sheet has a radius $R_{2}>R_{1}$ and has an area charge density $\\sigma$ . Write an expression for the required area charge density $\\sigma$ so that the field for $R>R_{2}$ is zero.\n",
    "\n",
    "For there to be no enclosed charge\n",
    "\n",
    "$\\rho\\pi R_{1}^{2}l+\\sigma 2\\pi R_{2}l=0$\n",
    "\n",
    "$\\sigma=-\\frac{\\rho R_{1}^{2}}{2R_{2}}$\n",
    "\n",
    "* E. For the case considered in D., write an expression for the electric field as a function of the distance from the center of the cylinder, $r$, for $R_{1}<r<R_{2}$.\n"
   ]
  },
  {
   "cell_type": "markdown",
   "id": "4ed7de84",
   "metadata": {},
   "source": [
    "### Planar symmetry\n",
    "\n",
    "\n",
    "![im.png](images/planeofchargegauss.png)\n",
    "\n",
    "If the plane is infinite then the flux through the curved surfaces is zero and we only need to be concerned about the flux through the flat prism surfaces of area $A$. The flux through those two faces will not always be the same, so in general if we define a field through the left face $\\vec{E}_{L}$ and the right face $\\vec{E}_{R}$\n",
    "\n",
    "$\\Phi_{E}=\\oint\\vec{E}\\cdot d\\vec{A}=\\vec{E}_{L}\\cdot\\vec{A}+\\vec{E}_{R}\\cdot\\vec{A}$\n",
    "\n",
    "![im.png](images/cylindricalslice.png)\n",
    "\n",
    "$Q=\\int\\int\\int\\rho\\,dV=\\int\\rho(l) A dl$\n",
    "\n",
    "or when there is a sheet of charge $\\sigma$\n",
    "\n"
   ]
  },
  {
   "cell_type": "code",
   "execution_count": null,
   "id": "af3fc10d",
   "metadata": {},
   "outputs": [],
   "source": []
  }
 ],
 "metadata": {
  "kernelspec": {
   "display_name": "Python 3 (ipykernel)",
   "language": "python",
   "name": "python3"
  },
  "language_info": {
   "codemirror_mode": {
    "name": "ipython",
    "version": 3
   },
   "file_extension": ".py",
   "mimetype": "text/x-python",
   "name": "python",
   "nbconvert_exporter": "python",
   "pygments_lexer": "ipython3",
   "version": "3.9.10"
  }
 },
 "nbformat": 4,
 "nbformat_minor": 5
}
