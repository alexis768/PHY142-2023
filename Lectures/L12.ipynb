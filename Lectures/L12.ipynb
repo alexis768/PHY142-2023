{
 "cells": [
  {
   "cell_type": "markdown",
   "id": "757ed2af",
   "metadata": {},
   "source": [
    "## Lecture 12 - DC circuits"
   ]
  },
  {
   "cell_type": "markdown",
   "id": "a4e2870b",
   "metadata": {},
   "source": [
    "### Circuit elements\n",
    "\n",
    "We have now discussed the properties of batteries, capacitors and resistors. We will now look at how the behave when connected together in circuits. For ease of communication, there are a standard set of symbols used for circuit diagrams.\n",
    "\n",
    "![im.png](images/circuitelements.png)"
   ]
  },
  {
   "cell_type": "markdown",
   "id": "84af10f3",
   "metadata": {},
   "source": [
    "### Resistors in Series\n",
    "\n",
    "If we recall our formula for resistance \n",
    "\n",
    "$R=\\rho\\frac{l}{A}$\n",
    "\n",
    "we can expect that if we connect two resistors in series the total resistance should be the sum of the resistances. We can look at this also in terms of a circuit\n",
    "![im.png](images/resistorsinseries.png)\n",
    "\n",
    "The current $I$ which flows through the circuit is the same everywhere. The potential in each resistor is given by Ohm's law $V=IR$, and the total potential is the sum of the potentials across the resistors.\n",
    "\n",
    "$V=V_{1}+V_{2}+V_{3}=IR_{1}+IR_{2}+IR_{3}$\n",
    "\n",
    "We can define an equivalent resistance for the 3 resistors\n",
    "\n",
    "$R_{eq}=R_{1}+R_{2}+R_{3}$"
   ]
  },
  {
   "cell_type": "markdown",
   "id": "de401dcd",
   "metadata": {},
   "source": [
    "### Resistors in Parallel\n",
    "\n",
    "![im.png](images/resistorsinparallel.png)\n",
    "\n",
    "When resistors are connected in parallel the current splits itself up between the various branches\n",
    "\n",
    "$I=I_{1}+I_{2}+I_{3}$\n",
    "\n",
    "As the potential across each resistor is the same $V$\n",
    "\n",
    "$I_{1}=\\frac{V}{R_{1}}$;$I_{2}=\\frac{V}{R_{2}}$;$I_{3}=\\frac{V}{R_{3}}$\n",
    "\n",
    "The total current is \n",
    "\n",
    "$I=\\frac{V}{R_{eq}}$\n",
    "\n",
    "where $R_{eq}$ is the equivalent resistance of the 3 resistors.\n",
    "\n",
    "As $\\frac{V}{R_{eq}}=\\frac{V}{R_{1}}+\\frac{V}{R_{2}}+\\frac{V}{R_{3}}$\n",
    "\n",
    "$\\frac{1}{R_{eq}}=\\frac{1}{R_{1}}+\\frac{1}{R_{2}}+\\frac{1}{R_{3}}$\n"
   ]
  },
  {
   "cell_type": "markdown",
   "id": "277d132f",
   "metadata": {},
   "source": [
    "### Light bulb ciruits\n",
    "\n",
    "Although, as you will see in next weeks lab, a light bulb is a non-ohmic resistor, we can use them to qualitatively understand something about the nature of series and parallel circuits. \n",
    "\n",
    "A light bulb is assigned a give power which corresponds to the power they draw when a 120V (rms) voltage is put across them. So under normal conditions a 120W bulb draws 1A of current and has a resistance of 120$\\Omega$ and a 60W bulb draws 0.5A of current and has a resistance of 240$\\Omega$. (Although we cannot use Ohm's law to accurately predict the current as a function of voltage we can use it to define the resistance at a given voltage).\n",
    "\n",
    "We can see that light bulbs in parallel operate in the same way as they would if they were connected by themselves. The voltage across each bulb is the same as if it were by itself and as more bulbs are added the circuit simply draws more current.\n",
    "\n"
   ]
  },
  {
   "cell_type": "markdown",
   "id": "b2f685a6",
   "metadata": {},
   "source": [
    "### Light bulbs in series\n",
    "\n",
    "If I connect two 60W bulbs in series will the brightness of each bulb relative to it's brightness when connected alone:\n",
    "\n",
    "A. Increase\n",
    "\n",
    "B. Decrease\n",
    "\n",
    "C. Stay the same\n",
    "\n",
    "If I replace one 60W bulb with a 40W bulb, which bulb will be brighter?\n",
    "\n",
    "A. The 60W bulb\n",
    "\n",
    "B. The 40W bulb\n",
    "\n",
    "C. They will have the same brightness\n"
   ]
  },
  {
   "cell_type": "markdown",
   "id": "ecaf7f65",
   "metadata": {},
   "source": [
    "### lectromotive force and internal resistance\n",
    "\n",
    "Till now we have treated the driving sources of current in a circuit as though they can support the same potential difference irrespective of how much current flows. However, any real source cannot do this.\n",
    "\n",
    "The emf $\\mathcal{E}$ is the potential difference provided by a source when no current is drawn. In order to model the drop in voltage when a current is drawn we consider a source as an ideal emf $\\mathcal{E}$ with an [internal resistance](https://en.wikipedia.org/wiki/Internal_resistance) $r$ in series. \n",
    "\n",
    "![im.png](images/internalresistance.png)\n",
    "\n",
    "&nbsp;&nbsp;&nbsp;&nbsp;&nbsp;&nbsp;&nbsp;&nbsp;$\\mathcal{E}$&nbsp;&nbsp;&nbsp;&nbsp;&nbsp;&nbsp;&nbsp;&nbsp;&nbsp;&nbsp;&nbsp;&nbsp;$r$\n",
    "\n",
    "The voltage provided is \n",
    "\n",
    "$V=\\mathcal{E}-Ir$\n",
    "\n",
    "The internal resistance is usually small (less than $0.5\\mathrm{\\Omega}$)"
   ]
  },
  {
   "cell_type": "markdown",
   "id": "6b8950fa",
   "metadata": {},
   "source": [
    "### Kirchoff's Rules\n",
    "\n",
    "In the previous simple examples we based our reasoning on some fundamental physical concepts, conservation of charge and conservation of energy. Another way of stating these laws are [Kirchoff's rules](https://en.wikipedia.org/wiki/Kirchhoff's_circuit_laws). These are very useful when we want to examine more complicated circuits.\n",
    "\n",
    "Kirchoff's **junction rule** comes from conservation of charge and says that for any junction in a circuit the sum of all currents entering the junction must equal the sum of all currents leaving the junction.\n",
    "\n",
    "Kirchoff's **loop rule** comes from conservation of energy and states that the changes in potential around any closed loop of a circuit must be zero.\n",
    "\n",
    "The way to use these rules is to use them set up a sufficient number of equations based on the junctions and loops in a circuit to solve for the required unknowns.\n"
   ]
  },
  {
   "cell_type": "markdown",
   "id": "85e8b2ed",
   "metadata": {},
   "source": [
    "### Applying Kirchoff's junction rule\n",
    "\n",
    "When applying Kirchoff's first law for the current entering and leaving a junction, it is important to allocate signs to the currents in a consistent way between junctions. We generally try to start by guessing the directions of currents so they give positive answers, but sometimes we will get it wrong and get a negative solution for one or more of the currents in a circuit. This is not a problem..as long as we haven't accidentally switched the direction of a current somewhere in our circuit..\n",
    "\n",
    "If we have a  single junction of 3 wires we can set $I_{1}=I_{2}+I_{3}$. This choice of currents is totally arbitrary, we could equally have said $I_{1}+I_{2}+I_{3}=0$, in which case at least one of these currents will be negative. \n",
    "\n",
    "The choice stops being arbitrary when we add a second junction, if we had chosen the first equation for the first junction the equation for the second junction should then be  $I_{2}+I_{3}=I_{4}$ whereas if we made the other choice for junction 1 then $I_{2}+I_{3}+I_{4}=0$.\n",
    "\n",
    "![im.png](images/kirchoff1.png)"
   ]
  },
  {
   "cell_type": "markdown",
   "id": "5b354c35",
   "metadata": {},
   "source": [
    "### Applying Kirchoff's loop rule\n",
    "\n",
    "As with the junction rule the direction in a loop, must be specified. The direction can be chosen arbitrarily but must be consistently applied throughout the loop. A resistor causes a potential drop $IR$ when the loop direction is the same as the current, or a rise in potential of the same magnitude when the loop direction is the opposite to the current. Similarly a battery can cause a fall or rise in potential depending on it's direction compared to the direction chosen for the loop.\n",
    "\n",
    "![im.png](images/kirchoff2a.png)\n",
    "\n",
    "In the example above if we take the left hand figure and choose the loop direction to be clockwise than the loop rule gives\n",
    "\n",
    "$\\mathcal{E}_{1}-I_{1}R_{1}=0$\n",
    "\n",
    "\n",
    "for the same figure with an anti-clockwise loop direction\n",
    "\n",
    "\n",
    "$-\\mathcal{E}_{1}+I_{1}R_{1}=0$\n",
    "\n",
    "\n",
    "If we take the right hand figure then\n",
    "\n",
    "$\\mathcal{E}_{1}+I_{1}R_{1}=0$ or $-\\mathcal{E}_{1}-I_{1}R_{1}=0$\n",
    "\n",
    "but we will eventually find that $I_{1}$ is negative.\n"
   ]
  },
  {
   "cell_type": "markdown",
   "id": "9247dc5f",
   "metadata": {},
   "source": [
    "### The importance of internal resistance\n",
    "\n",
    "We now add a second loop to the previous circuit, in this case the loop contains a second source of emf.\n",
    "\n",
    "![im.png](images/emfconflict.png)\n",
    "\n",
    "If we take a loop around the outside we can see that the loop rule would give us\n",
    "\n",
    "$\\mathcal{E}_{1}-\\mathcal{E}_{2}=0$\n",
    "\n",
    "which would only be true if we choose two identical sources of EMF. On the other hand we know that physically we can hook up two different emfs and we should have some way of dealing with it..\n",
    "\n",
    "The problem is that we have implicitly assumed that both sources of EMF are ideal, in which case each source of emf will provide it&#039;s ideal emf no matter what the conditions are, which is physically impossible, by giving them internal resistances we will be able to work out the net result of the two emfs in the circuit.\n"
   ]
  },
  {
   "cell_type": "markdown",
   "id": "8740c367",
   "metadata": {},
   "source": [
    "### Let's add the internal resistances\n",
    "\n",
    "![im.png](images/kirchoff2b.png)\n",
    "\n",
    "Both junctions will give us the same equation\n",
    "\n",
    "$I_{1}+I_{2}=I_{3}$\n",
    "\n",
    "The bottom loop gives us \n",
    "\n",
    "$\\mathcal{E}_{1}-I_{3}R_{3}-I_{1}R_{1}=0$\n",
    "\n",
    "and the top loop gives us\n",
    "\n",
    "$\\mathcal{E}_{2}-I_{3}R_{3}-I_{2}R_{2}=0$\n",
    "\n",
    "While the loop that goes around the edges gives us\n",
    "\n",
    "$\\mathcal{E}_{1}-\\mathcal{E}_{2}+I_{2}R_{2}-I_{1}R_{1}=0$\n",
    "\n",
    "which could also have been deduced by subtracting one of the two previous equations from each other.\n"
   ]
  },
  {
   "cell_type": "markdown",
   "id": "0d6055df",
   "metadata": {},
   "source": [
    "### Solving the circuit\n",
    "\n",
    "![im.png](images/kirchoff2b.png)\n",
    "\n",
    "\n",
    "$I_{1}+I_{2}=I_{3}$<br/>\n",
    "\n",
    "$\\mathcal{E}_{1}-I_{3}R_{3}-I_{1}R_{1}=0$<br/>\n",
    "\n",
    "$\\mathcal{E}_{2}-I_{3}R_{3}-I_{2}R_{2}=0$\n",
    "\n",
    "Suppose we know the values of the resistors and the emfs and wish to find the currents.\n",
    "\n",
    "$\\mathcal{E}_{1}-I_{3}R_{3}-I_{1}R_{1}=0\\to$\n",
    "\n",
    "$\\mathcal{E}_{1}-I_{3}R_{3}-(I_{3}-I_{2})R_{1}=0\\to$\n",
    "\n",
    "$\\mathcal{E}_{1}-I_{3}(R_{3}+R_{1})+I_{2}R_{1}=0 $\n",
    "\n",
    "\n",
    "$\\mathcal{E}_{2}-I_{3}R_{3}-I_{2}R_{2}=0\\to I_{2}R_{1}=(\\mathcal{E}_{2}-I_{3}R_{3})\\frac{R_{1}}{R_{2}}$\n",
    "\n",
    "$\\mathcal{E}_{1}-I_{3}(R_{3}+R_{1})+(\\mathcal{E}_{2}-I_{3}R_{3})\\frac{R_{1}}{R_{2}}=0$\n",
    "\n",
    "$\\mathcal{E}_{1}R_{2}-I_{3}(R_{3}R_{2}+R_{1}R_{2}+R_{3}R_{1})+\\mathcal{E}_{2}R_{1}=0$\n",
    "\n",
    "$I_{3}=\\frac{\\mathcal{E}_{1}R_{2}+\\mathcal{E}_{2}R_{1}}{R_{3}R_{2}+R_{1}R_{2}+R_{3}R_{1}}$\n",
    "\n",
    "$\\mathcal{E}_{1}-I_{3}R_{3}-I_{1}R_{1}=0\\to\\mathcal{E}_{1}-\\frac{\\mathcal{E}_{1}R_{2}+\\mathcal{E}_{2}R_{1}}{R_{3}R_{2}+R_{1}R_{2}+R_{3}R_{1}}R_{3}-I_{1}R_{1}=0$\n",
    "\n",
    "$I_{1}=\\frac{1}{R_{1}}(\\frac{\\mathcal{E}_{1}R_{3}R_{2}+\\mathcal{E}_{1}R_{1}R_{2}+\\mathcal{E}_{1}R_{3}R_{1}-\\mathcal{E}_{1}R_{2}R_{3}-\\mathcal{E}_{2}R_{1}R_{3}}{{R_{3}R_{2}+R_{1}R_{2}+R_{3}R_{1}}})=(\\frac{\\mathcal{E}_{1}R_{2}+\\mathcal{E}_{1}R_{3}-\\mathcal{E}_{2}R_{3}}{{R_{3}R_{2}+R_{1}R_{2}+R_{3}R_{1}}})$\n",
    "\n",
    "$I_{2}=(\\frac{\\mathcal{E}_{2}R_{1}+\\mathcal{E}_{2}R_{3}-\\mathcal{E}_{1}R_{3}}{{R_{3}R_{2}+R_{1}R_{2}+R_{3}R_{1}}})$"
   ]
  },
  {
   "cell_type": "markdown",
   "id": "d28ec734",
   "metadata": {},
   "source": [
    "### Current in opposite direction to emf\n",
    "\n",
    "![im.png](images/kirchoff2b.png)\n",
    "\n",
    "\n",
    "When we first looked at internal resistance we were looking at currents that flowed away from the the positive terminal and $V=\\mathcal{E}-Ir$ meant that there was a drop of the potential across the internal resistance, reducing the effective voltage of the battery.  \n",
    "\n",
    "We can now see that in a circuit where there is more than one source of emf the current may be in the opposite direction. We can interpret this as charge being pushed back into $E_{2}$ which, if it is rechargeable, will recharge it.\n",
    "\n",
    "We can also see that if the sources of emf are identical but connected in the opposite sense $\\mathcal{E}_{1}=-\\mathcal{E}_{2}$\n",
    "\n",
    "$I_{3}=\\frac{\\mathcal{E}_{1}R_{2}-\\mathcal{E}_{2}R_{1}}{R_{3}R_{2}+R_{1}R_{2}+R_{3}R_{1}}$\n",
    "\n",
    "which will give a current of zero if the internal resistances are also the same.\n"
   ]
  },
  {
   "cell_type": "code",
   "execution_count": null,
   "id": "bc0279fe",
   "metadata": {},
   "outputs": [],
   "source": []
  }
 ],
 "metadata": {
  "kernelspec": {
   "display_name": "Python 3 (ipykernel)",
   "language": "python",
   "name": "python3"
  },
  "language_info": {
   "codemirror_mode": {
    "name": "ipython",
    "version": 3
   },
   "file_extension": ".py",
   "mimetype": "text/x-python",
   "name": "python",
   "nbconvert_exporter": "python",
   "pygments_lexer": "ipython3",
   "version": "3.9.10"
  }
 },
 "nbformat": 4,
 "nbformat_minor": 5
}
