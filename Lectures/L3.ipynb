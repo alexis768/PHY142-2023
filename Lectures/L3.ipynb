{
 "cells": [
  {
   "cell_type": "markdown",
   "id": "f0c0d183",
   "metadata": {},
   "source": [
    "## Lecture 3 - Fields due to continuous charge distributions"
   ]
  },
  {
   "cell_type": "markdown",
   "id": "2e385127",
   "metadata": {},
   "source": [
    "### Field distributions due to continuous charge distributions\n",
    "\n",
    "As the electric field at a point in space is the sum of the individual fields due to all charges around that point integral calculus is a natural way to calculate the electric field due to continuous charge distributions.\n",
    "\n",
    "We define an infinitesimal charge element $dQ$ which is a distance r from the point at which we want to know the field. The field due to this charge element $dE$ is\n",
    "\n",
    "$dE=\\frac{1}{4\\pi\\epsilon_{0}}\\frac{dQ}{r^{2}}$\n",
    "\n",
    "The electric field is \n",
    "\n",
    "$\\vec{E}=\\int d\\vec{E}$\n",
    "\n",
    "We need to be a bit careful here, because the electric field is a vector! Some examples will help demonstrate the point.\n"
   ]
  },
  {
   "cell_type": "markdown",
   "id": "dd868876",
   "metadata": {},
   "source": [
    "### Field due to a ring of charge\n",
    "We can consider a situation where the symmetry is quite helpful, a thin ring of charge, total charge $Q$ with radius $a$. We can ask what the field is at a point on the axis going through the center of the ring a distance $x$ from the center of the ring.\n",
    "\n",
    "    \n",
    "Our first step is to define a charge element $dQ$ in terms of a length element $dl$.\n",
    "\n",
    "The magnitude of the field due to this element is then $dE=\\frac{1}{4\\pi\\epsilon_{0}}\\frac{Q}{2\\pi a}\\frac{1}{r^{2}}dl=\\frac{1}{4\\pi\\epsilon_{0}}\\frac{Q}{2\\pi a}\\frac{1}{x^{2}+a^{2}}dl$\n",
    "\n",
    "\n",
    "![im.png](images/chargering.png)\n",
    "\n",
    "We cannot simply add the magnitude of the field from the whole ring together to get the field, because the field is a vector. However, symmetry makes the problem fairly easily because all the $dE_{\\perp}$ components cancel.\n",
    "\n",
    "Therefore,\n",
    "\n",
    "$E=\\int dE_{x}=\\int dE{\\cos\\theta}=\\int_{0}^{2\\pi a}\\frac{1}{4\\pi\\epsilon_{0}}\\frac{Q}{2\\pi a}\\frac{1}{x^{2}+a^{2}}\\cos\\theta\\,dl$\n",
    "\n",
    "$=\\frac{1}{4\\pi\\epsilon_{0}}\\frac{Q}{2\\pi a}\\frac{x}{(x^{2}+a^{2})^{3/2}}\\int_{0}^{2\\pi a}dl=\\frac{1}{4\\pi\\epsilon_{0}}\\frac{Q}{2\\pi a}\\frac{x}{(x^{2}+a^{2})^{3/2}}2\\pi a=\\frac{Q}{4\\pi\\epsilon_{0}}\\frac{x}{(x^{2}+a^{2})^{3/2}}$\n"
   ]
  },
  {
   "cell_type": "markdown",
   "id": "dd07f6fd",
   "metadata": {},
   "source": [
    "### Long line of charge\n",
    "\n",
    "![im.png](images/lineofcharge.png)\n",
    "\n",
    "For an infinitely long line of charge with a linear charge density $\\lambda$\n",
    "\n",
    "$dE=\\frac{1}{4\\pi\\epsilon_{0}r^{2}}\\,dQ=\\frac{1}{4\\pi\\epsilon_{0}}\\frac{1}{x^{2}+y^{2}}\\lambda\\,dy$\n",
    "\n",
    "As before we can invoke symmetry to cancel the y components of the field\n",
    "\n",
    "$E=E_{x}=\\int dE\\cos\\theta=\\frac{\\lambda}{4\\pi\\epsilon_{0}}\\int_{-\\infty}^{\\infty}\\frac{\\cos\\theta}{x^{2}+y^{2}}\\,dy$\n",
    "\n",
    "We want to find the field at a fixed distance $x$, so this may be treated as a constant. However, $\\theta$ and $y$ are not independent, $y=x\\tan\\theta$ so we need to convert this into either an integral in terms of either $\\theta$ or $y$ only. To do this we need to find an expression for $dy$ in terms of $x$ and $\\theta$\n",
    "\n",
    "$\\frac{dy}{d\\theta}=\\frac{x}{\\cos^{2}\\theta}$ ⇒ $dy=\\frac{x}{\\cos^{2}\\theta}d\\theta$\n",
    "\n",
    "$E=\\frac{\\lambda}{4\\pi\\epsilon_{0}}\\int_{-\\infty}^{\\infty}\\frac{\\cos\\theta}{x^{2}+y^{2}}dy=\\frac{\\lambda}{4\\pi\\epsilon_{0}}\\int_{-\\pi/2}^{\\pi/2}\\frac{\\cos\\theta}{(x^{2}+x^{2}\\tan^{2}\\theta)}\\frac{x}{\\cos^{2}\\theta}d\\theta$\n",
    "\n",
    "$=\\frac{\\lambda}{4\\pi\\epsilon_{0}x}\\int_{-\\pi/2}^{\\pi/2}\\cos\\theta\\frac{\\cos^{2}\\theta}{\\cos^{2}\\theta+\\sin^{2}\\theta}\\frac{1}{\\cos^{2}\\theta}\\,d\\theta$\n",
    "\n",
    "$=\\frac{\\lambda}{4\\pi\\epsilon_{0}x}\\int_{-\\pi/2}^{\\pi/2}\\cos\\theta\\,d\\theta=\\frac{\\lambda}{4\\pi\\epsilon_{0}x}[\\sin\\theta]_{-\\pi/2}^{\\pi/2}=\\frac{\\lambda}{2\\pi\\epsilon_{0}x}$\n"
   ]
  },
  {
   "cell_type": "markdown",
   "id": "3f285fea",
   "metadata": {},
   "source": [
    "### Field due to a uniform disk of charge\n",
    "\n",
    "![im.png](images/uniformdisk.png)\n",
    "\n",
    "To find the field due to a uniform disk of charge which has an areal charge density $\\sigma$ we can use our result for a ring of charge and consider the field as an integral over a set of these rings. If we take a ring of charge $dQ$\n",
    "\n",
    "$dE=\\frac{1}{4\\pi\\epsilon_{0}}\\frac{z}{(z^{2}+r^{2})^{3/2}}\\,dQ$\n",
    "\n",
    "We need to relate the charge element to the width of the ring $dr$\n",
    "\n",
    "$dQ=\\sigma 2\\pi r\\,dr$\n",
    "\n",
    "$dE=\\frac{1}{4\\pi\\epsilon_{0}}\\frac{z\\sigma 2\\pi r}{(z^{2}+r^{2})^{3/2}}\\,dr=\\frac{z\\sigma r}{2\\epsilon_{0}(z^{2}+r^{2})^{3/2}}\\,dr$\n",
    "\n",
    "$E=\\frac{z\\sigma}{2\\epsilon_{0}}\\int_{0}^{R}\\frac{r}{(z^{2}+r^{2})^{3/2}}\\,dr=\\frac{z\\sigma}{2\\epsilon_{0}}[-\\frac{1}{(z^{2}+r^{2})^{1/2}}]_{0}^{R}=\\frac{\\sigma}{2\\epsilon_{0}}[1-\\frac{z}{(z^{2}+R^{2})^{1/2}}]$\n",
    "\n",
    "The limit as $R\\to\\infty$ or when $z&lt;&lt;R$ that $E=\\frac{\\sigma}{2\\epsilon_{0}}$ is valid for any infinite plane of charge.\n"
   ]
  },
  {
   "cell_type": "markdown",
   "id": "0a3f4823",
   "metadata": {},
   "source": [
    "### Field due to two sheets of charge\n",
    "\n",
    "$E=\\frac{\\sigma}{2\\epsilon_{0}}$ is valid for any infinite plane of charge, so what is the field inside and outside of two parallel sheets of charge with opposite sign?\n",
    "\n",
    "![im.png](images/twosheetsofcharge.png)\n"
   ]
  },
  {
   "cell_type": "markdown",
   "id": "12dc7d43",
   "metadata": {},
   "source": [
    "### Field inside a conductor\n",
    "\n",
    "![im.png](images/conductorcharges.png)\n",
    "\n",
    "\n",
    "If we consider a static situation inside a conductor the field should be zero. This is because if there is an electric field the free electrical charges will move in response to the field because they experience a force. If there is a net charge on a metal arranges itself so that the field inside is equal to zero. The result is that the charges are arranged on the surface of the conductor.\n",
    "\n",
    "If we take for example a long thin rectangular conductor with a net positive charge we can see that this will have zero field inside if the charge is on the surface from our previous result that the field due to a infinite plane of charge is $\\frac{\\sigma}{2\\epsilon_{0}}$. This does not depend on the distance from the charge. The field points away from the positive charges and so the field from the charges on each surfaces exactly cancels out everywhere inside the conductor.\n",
    "\n",
    "Electric fields lines are always perpendicular to a conducting surface, any component of the field parallel to the surface would lead to a movement of charge along the surface.\n"
   ]
  },
  {
   "cell_type": "markdown",
   "id": "8275afd4",
   "metadata": {},
   "source": [
    "### Charge inside a conducting container\n",
    "\n",
    "If we consider a charge inside a conducting sphere, the inside surface of the sphere must develop a charge to stop the field from developing inside the conductor. To maintain neutrality the outer sphere must develop an equal and opposite charge. The field outside the sphere is then the same as if the sphere was not there are at all.\n",
    "\n",
    "![im.png](images/chargeinmetalsphere.png)\n"
   ]
  },
  {
   "cell_type": "markdown",
   "id": "9b42d1da",
   "metadata": {},
   "source": [
    "### Faraday cage\n",
    "If we place a metal object in an electric field the interior of the conductor has no field. It is also true that if we then make a hole in the middle of the conductor there is also no field inside (as long as there is no net charge in the hole.) This principle is used in the [Faraday cage](https://en.wikipedia.org/wiki/Faraday_cage) which is a metal enclosure used to shield people or equipment from static electric fields.\n",
    "\n"
   ]
  },
  {
   "cell_type": "code",
   "execution_count": null,
   "id": "9db06c09",
   "metadata": {},
   "outputs": [],
   "source": []
  }
 ],
 "metadata": {
  "kernelspec": {
   "display_name": "Python 3 (ipykernel)",
   "language": "python",
   "name": "python3"
  },
  "language_info": {
   "codemirror_mode": {
    "name": "ipython",
    "version": 3
   },
   "file_extension": ".py",
   "mimetype": "text/x-python",
   "name": "python",
   "nbconvert_exporter": "python",
   "pygments_lexer": "ipython3",
   "version": "3.9.10"
  }
 },
 "nbformat": 4,
 "nbformat_minor": 5
}
