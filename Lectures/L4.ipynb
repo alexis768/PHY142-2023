{
 "cells": [
  {
   "cell_type": "markdown",
   "id": "8e12eed3",
   "metadata": {},
   "source": [
    "## Lecture 4 - Electric Flux and Gauss's law"
   ]
  },
  {
   "cell_type": "markdown",
   "id": "0d4ecdc6",
   "metadata": {},
   "source": [
    "### Electric Flux\n",
    "We are now going to define a new quantity, electric flux, which will allow us to introduce Gauss's Law. We will come to see that Gauss's law is often a much more effective way of calculating the electric field than Coulomb's law.\n",
    "\n",
    "If we consider a uniform electric field $\\vec{E}$ passing through a flat area $A$ we can define the electric flux as $\\Phi_{E}=EA\\cos\\theta$\n",
    "\n",
    "![im.png](images/fluxangle.png)\n"
   ]
  },
  {
   "cell_type": "markdown",
   "id": "76797cba",
   "metadata": {},
   "source": [
    "### Area vector\n",
    "\n",
    "We would like to define the electric flux in terms of a vector dot product. In order to do this we represent the area by a vector with magnitude equal to the area and direction normal to the surface.\n",
    "\n",
    "![im.png](images/areavector.png)\n",
    "Now we can go from\n",
    "\n",
    "$\\Phi_{E}=EA\\cos\\theta$\n",
    "\n",
    "to \n",
    "\n",
    "$\\Phi_{E}=\\vec{E}.\\vec{A}$\n",
    "\n",
    "\n",
    "![im.png](images/fluxdotproduct.png)"
   ]
  },
  {
   "cell_type": "markdown",
   "id": "b062980f",
   "metadata": {},
   "source": [
    "### Electric flux for non-uniform fields and areas\n",
    "\n",
    "If we have an arbitrary surface and field we can divide it up in to infinitesimally small areas $d\\vec{A}$ within which the field is uniform. To find the total flux through a surface we integrate over these area elements\n",
    "\n",
    "$\\Phi_{E}=\\int\\vec{E}.d\\vec{A}$\n",
    "\n",
    "In order to introduce Gauss's law we need to define a closed surface. A closed surface completely encloses a volume. We denote an integral over a complete closed surface using a special symbol, ie, the electric flux passing through a closed surface is \n",
    "\n",
    "$\\Phi_{E}=\\oint\\vec{E}.d\\vec{A}$\n",
    "\n",
    "For a closed surface we need to pay attention to the direction of the vector $\\vec{A}$ which we define to always point outwards from the surface.\n",
    "\n",
    "![im.png](images/fluxarbitarysurface.png)"
   ]
  },
  {
   "cell_type": "markdown",
   "id": "a9abad11",
   "metadata": {},
   "source": [
    "### Gauss's Law\n",
    "\n",
    "[Gauss's law](https://en.wikipedia.org/wiki/Gauss's_law) is a very useful law that relates the integral we just defined to the amount of charge $Q$ enclosed inside the surface.\n",
    "\n",
    "$\\Phi_{E}=\\oint\\vec{E}.d\\vec{A}=\\frac{Q}{\\varepsilon_{0}}$\n",
    "\n",
    "\n",
    "Gauss's law tells us that the net difference of electrical flux going in to and out of a closed surface is determined by the amount of charge the surface encloses. We should be careful to note it does not necessarily imply that there is zero field inside a Gaussian surface that does not enclose any charge.\n",
    "\n",
    "The reasons that this law is so useful is that it does not matter how the charge is distributed inside the surface. Also we can choose the surface to be whatever we want, if we choose carefully, guided by symmetry, the integrals required can often be very easy.\n"
   ]
  },
  {
   "cell_type": "markdown",
   "id": "772500c5",
   "metadata": {},
   "source": [
    "### Coulomb's law from Gauss's law\n",
    "\n",
    "If we take an isolated point charge of magnitude $+Q$ we can expect the field to point radially outwards. Therefore it makes sense to choose a spherical Gaussian surface centered on the charge so that the field will be the same in magnitude and perpendicular to the surface everywhere it meets the surface.\n",
    "\n",
    "$\\Phi_{E}=\\oint\\vec{E}.d\\vec{A}=\\oint EdA=E\\oint dA=EA=E4\\pi r^{2}$\n",
    "\n",
    "Gauss's law then tells us that \n",
    "\n",
    "$E4\\pi r^{2}=\\frac{Q}{\\varepsilon_{0}}\\to E=\\frac{Q}{4\\pi\\varepsilon_{0}r^{2}}$\n",
    "\n",
    "and we have recovered Coulomb's law.\n",
    "\n",
    "![im.png](images/coloumbfromgaussnew.png)"
   ]
  },
  {
   "cell_type": "markdown",
   "id": "def9a9d2",
   "metadata": {},
   "source": [
    "### Charged metal sphere\n",
    "\n",
    "We can now look at a situation we discussed in the last lecture, a hollow metal sphere with a net positive charge. \n",
    "\n",
    "Because of the spherical symmetry for any spherical Gaussian surface of radius r\n",
    "\n",
    "$\\Phi_{E}=\\oint\\vec{E}.d\\vec{A}=\\oint EdA=E\\oint dA=EA=E4\\pi r^{2}$\n",
    "\n",
    "and Gauss's law gives us\n",
    "\n",
    "$\\Phi_{E}=\\oint\\vec{E}.d\\vec{A}=\\frac{Q}{\\varepsilon_{0}}$\n",
    "\n",
    "Any spherical Gaussian surface we draw inside the sphere of charge does not include any charge and so the net electric flux through the sphere must be zero. By contrast if we draw a spherical gaussian surface outside the charge we can show that the field outside the sphere is $E=\\frac{Q}{4\\pi\\varepsilon_{0}r^{2}}$\n",
    "\n",
    "![im.png](images/chargedmetalsphere.png)\n",
    "\n",
    "![im.png](images/metalsphere3d.png)"
   ]
  },
  {
   "cell_type": "markdown",
   "id": "9c5eed69",
   "metadata": {},
   "source": [
    "### Solid uniformly charged sphere\n",
    "\n",
    "If we now consider an insulating sphere of radius $r_{0}$ that has total charge $+Q$ uniformly distributed inside we need to take in to account the fact that when we draw a spherical Gaussian surface inside the sphere not all the charge will be included inside the sphere.\n",
    "\n",
    "The amount of charge included inside a Gaussian sphere of radius $r$ within the sphere of charge is $Q_{enc}=Q\\frac{4/3\\pi r^{3}}{4/3\\pi r_{0}^{3}}=Q\\frac{r^{3}}{r_{0}^{3}}$\n",
    "\n",
    "As before the field has spherical symmetry\n",
    "\n",
    "$\\Phi_{E}=\\oint\\vec{E}.d\\vec{A}=\\oint EdA=E\\oint dA=EA=E4\\pi r^{2}$\n",
    "\n",
    "and Gauss' law gives us\n",
    "\n",
    "$\\Phi_{E}=\\frac{Q_{enc}}{\\varepsilon_{0}}$\n",
    "\n",
    "The field for $r>r_{0}$ is therefore $E=\\frac{Q}{4\\pi\\varepsilon_{0}r^{2}}\\frac{r^{3}}{r_{0}^{3}}=\\frac{Qr}{4\\pi\\varepsilon_{0}r_{0}^{3}}$\n",
    "\n",
    "For $r>r_{0}$ all the charge is included inside the Gaussian sphere and so the field is again $E=\\frac{Q}{4\\pi\\varepsilon_{0}r^{2}}$. From the outside the fields due to a charged conducting sphere and a charged insulating sphere are identical!\n",
    "\n",
    "![im.png](images/uniformchargedsphere.png)\n",
    "![im.png](images/uniformchargedsphere3d.png)"
   ]
  },
  {
   "cell_type": "markdown",
   "id": "f2419f8f",
   "metadata": {},
   "source": [
    "### Long uniform line of charge\n",
    "\n",
    "We will now revisit one of the field distributions we derived from Coulomb's law, the field due to an [infinitely long line of charge](https://github.com/marivifs-teaching/PHY142-2023/blob/main/Lectures/L3.ipynb). As before the charge per unit length is $\\lambda$ and we can reason that the field should always be perpendicular to the line of charge. To reflect the symmetry of the problem we take a cylindrical Gaussian surface of length $l$ and radius $R$ where $R$ is the distance at which we wish to know the field.\n",
    "\n",
    "To evaluate the total flux passing through the surface we should take into account the ends of the cylinder as well as it's curved surface, but as the field is parallel to the ends of the cylinder the flux through the ends is zero. Gauss's law is then\n",
    "\n",
    "$\\oint\\vec{E}.d\\vec{A}=E(2\\pi R l)=\\frac{Q}{\\varepsilon_{0}}=\\frac{\\lambda l}{\\varepsilon_{0}}$\n",
    "\n",
    "which gives\n",
    "\n",
    "$E=\\frac{1}{2\\pi\\varepsilon_{0}}\\frac{\\lambda}{R}$\n",
    "![im.png](images/linechargegauss.png)"
   ]
  },
  {
   "cell_type": "markdown",
   "id": "e2e82c4c",
   "metadata": {},
   "source": [
    "### Infinite plane of charge\n",
    "\n",
    "We showed previously, based on taking the limit of our result for the [field of a uniformly charged disk](https://github.com/marivifs-teaching/PHY142-2023/blob/main/Lectures/L3.ipynb), that the field due to an infinite plane of charge is $E=\\frac{\\sigma}{2\\varepsilon_{0}}$. The same result can be obtained very easily from Gauss's law.\n",
    "\n",
    "We again draw a cylindrical Gaussian surface, but this time it is the flat surfaces that have flux passing through them. The flat surfaces have area $A$, and we can see that in fact we could have taken any kind of prism to be our surface, so long as the sides of the prism are parallel to the field.\n",
    "\n",
    "$\\oint\\vec{E}.d\\vec{A}=-E(-A)+EA=E(2A)=E(2A)=\\frac{Q}{\\varepsilon_{0}}=\\frac{\\sigma A}{\\varepsilon_{0}}$\n",
    "\n",
    "$E=\\frac{\\sigma}{2\\varepsilon_{0}}$\n",
    "\n",
    "![im.png](images/planeofchargegauss.png)"
   ]
  },
  {
   "cell_type": "markdown",
   "id": "718254f1",
   "metadata": {},
   "source": [
    "### Planar conductor\n",
    "Suppose we now consider a thin metal sheet, which has a charge density $\\sigma$ on both the front and back sides. From symmetry we should expect that the field on opposite sides of the sheet should point in opposite directions, but have the same magnitude. If we draw a Gaussian surface that includes both sheets of charge we can now find that\n",
    "\n",
    "$\\oint\\vec{E}.d\\vec{A}=-E(-A)+EA=E(2A)=\\frac{Q}{\\varepsilon_{0}}=\\frac{\\sigma 2A}{\\varepsilon_{0}}$\n",
    "\n",
    "$E=\\frac{\\sigma}{\\varepsilon_{0}}$\n",
    "\n",
    "The same result can also be obtained by drawing a surface that ends within the metal, in this case the flux is only through the top surface of the cylinder, as no field can exist in the metal\n",
    "\n",
    "$\\oint\\vec{E}.d\\vec{A}=E(A)=\\frac{Q}{\\varepsilon_{0}}=\\frac{\\sigma A}{\\varepsilon_{0}}$\n",
    "\n",
    "$E=\\frac{\\sigma}{\\varepsilon_{0}}$\n",
    "\n",
    "![im.png](images/planarconductorgauss.png)"
   ]
  },
  {
   "cell_type": "markdown",
   "id": "1bcfd4aa",
   "metadata": {},
   "source": [
    "### Infinite slab of charge\n",
    "\n",
    "What is the field in the center of a slab of thickness $d$ with uniform charge density $\\rho$?\n",
    "\n",
    "What is the magnitude of the field outside such slab?\n",
    "\n"
   ]
  },
  {
   "cell_type": "markdown",
   "id": "7e263b1a",
   "metadata": {},
   "source": [
    "### Gaussian surfaces within conductors\n",
    "\n",
    "In order to exclude electric field from a conductor any Gaussian surface that lies entirely within the conductor must contain no net electric charge. This fact can be used to easily explain the charge distribution we discussed previously for a hollow metal sphere with a charge inside.\n",
    "\n",
    "![im.png](images/chargeinmetalsphere.png)"
   ]
  },
  {
   "cell_type": "code",
   "execution_count": null,
   "id": "385a43d6",
   "metadata": {},
   "outputs": [],
   "source": []
  }
 ],
 "metadata": {
  "kernelspec": {
   "display_name": "Python 3 (ipykernel)",
   "language": "python",
   "name": "python3"
  },
  "language_info": {
   "codemirror_mode": {
    "name": "ipython",
    "version": 3
   },
   "file_extension": ".py",
   "mimetype": "text/x-python",
   "name": "python",
   "nbconvert_exporter": "python",
   "pygments_lexer": "ipython3",
   "version": "3.9.10"
  }
 },
 "nbformat": 4,
 "nbformat_minor": 5
}
