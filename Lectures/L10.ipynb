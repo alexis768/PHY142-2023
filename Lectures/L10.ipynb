{
 "cells": [
  {
   "cell_type": "markdown",
   "id": "48ac61e9",
   "metadata": {},
   "source": [
    "## Lecture 10 - Electric Current\n",
    "\n",
    "So far we have dealt with electrostatics, situations in which electric charges are stationary. Now we will look at situations involving continuous flow of charge from one point to another, which we describe as a current.\n"
   ]
  },
  {
   "cell_type": "markdown",
   "id": "c732bf5a",
   "metadata": {},
   "source": [
    "### Batteries\n",
    "\n",
    "In order to have a constant flow of current we need to have a constant amount of charge flowing through a constant potential difference. This implies that we have a constant amount of energy driving the current. In a battery this energy is provided by a conversion of chemical energy in \n",
    "to electrical energy. A [battery](https://en.wikipedia.org/wiki/Battery_(electricity)) actually refers to a collection, of electrochemical cells, and it is the electrochemical cell we need to understand. (The term battery actually predates the electrochemical cell and was first used by [Benjamin Franklin](https://en.wikipedia.org/wiki/Benjamin_Franklin), to describe a number of connected capacitors, which at this time were [Leyden Jars](https://en.wikipedia.org/wiki/Leyden_jar)). The electrochemical cell was invented by [Alessandro Volta](https://en.wikipedia.org/wiki/Alessandro_Volta), but he did not fully appreciate the chemical nature of it's operation, which was understood somewhat later by [Michael Faraday](https://en.wikipedia.org/wiki/Michael_Faraday).\n"
   ]
  },
  {
   "cell_type": "markdown",
   "id": "85f96f61",
   "metadata": {},
   "source": [
    "### Galvani's Frog's Legs and the Voltaic Pile\n",
    "\n",
    "Volta's invention of the battery was inspired by the discovery of [Luigi Galvani](https://en.wikipedia.org/wiki/Luigi_Galvani) that when a dissected frog's leg had was touched with two different metals it twitched and sparks were observed. Galvani thought that the energy came from the leg itself, and believed he had discovered “animal electricity”. Volta disagreed with this interpretation, and demonstrated that a voltage could be produced by different metals separated by a fluid. At first the potentials he achieved were small, but after some years of work he invented the Voltaic Pile in 1800, which consisted of pairs of copper and zinc discs separated by brine soaked sheets of cardboard. Volta's interpretation of the operation of the device, while an improvement on Galvani's animal electricity idea was incorrect; he thought that the potential came as a result of different materials touching each other and that the observed corrosion of the metals while the battery was operated was a side effect that could be avoided if only the right materials could be found, resulting in a perpetually operating battery.\n",
    "\n",
    "![im.png](images/galvani-frog-legs.png)![im.png](images/volta-and-napoleon.png)"
   ]
  },
  {
   "cell_type": "markdown",
   "id": "9ba77777",
   "metadata": {},
   "source": [
    "### Electrochemistry\n",
    "\n",
    "The science behind how an electrochemical cell works, [electrochemistry](https://en.wikipedia.org/wiki/Electrochemistry), was founded by Michael Faraday when he published his [laws of electrolysis](https://en.wikipedia.org/wiki/Faraday's_laws_of_electrolysis) in 1834.\n",
    "\n",
    "Each electrochemical cell is made up two half-cells, in each half cell there is a metal electrode and an electrolyte, which initially was a fluid, but is often a solid nowadays. Each half cell has a characteristic voltage, determined by the nature of the electrode and electrolyte. When the two half cells are combined in to a full cell one electrode gains electrons due to an equilibirium reaction with the electrolyte, while the other loses them. These reactions are limited unless a current flows, as current flows through an external circuit the reactions are allowed to proceed, until the reach a point where the reaction cannot proceed any more and the battery is dead.\n",
    "\n",
    "In the original voltaic pile the two half cells use the same electrolyte. This works in the short term, but leads to an accumulation of ions that limits the life of the battery.\n"
   ]
  },
  {
   "cell_type": "markdown",
   "id": "890c0358",
   "metadata": {},
   "source": [
    "### Daniell Cell\n",
    "\n",
    "Not long after Faraday's work another British scientist John Frederic Daniell invented the Daniell Cell in 1836 which used two separate cells separated by a salt bridge, this was important as one electrolyte could consume the hydrogen produced by the other, which was a problem with the original voltaic pile.\n",
    "\n",
    "More on the [History of the battery](https://en.wikipedia.org/wiki/History_of_the_battery)"
   ]
  },
  {
   "cell_type": "markdown",
   "id": "293d5103",
   "metadata": {},
   "source": [
    "### Current\n",
    "\n",
    "If an amount of charge $\\Delta Q$ flows in a time interval $\\Delta t$ the average current in this time is defined as\n",
    "\n",
    "$\\bar{I}=\\frac{\\Delta Q}{\\Delta t}$\n",
    "\n",
    "The instantaneous current is the limit as $\\Delta t \\to 0$\n",
    "\n",
    "$I=\\frac{dQ}{dt}$\n",
    "\n",
    "The unit for current is the Ampere $\\mathrm{A}$ which is equivalent to $\\mathrm{\\frac{C}{s}}$, and is named after [Andre Ampere](https://en.wikipedia.org/wiki/André-Marie_Ampère). This is usually abbreviated as an amp.\n",
    "\n",
    "Even though in metallic wires it is negative electrons that flow the convention for current is for a flow of positive charges, so current flows from high to low potentials, even though when electrons carry the current they are actually moving from low to high potential. \n"
   ]
  },
  {
   "cell_type": "markdown",
   "id": "88e37e54",
   "metadata": {},
   "source": [
    "### Closed circuits and ground\n",
    "\n",
    "For a current to flow there needs to be a continuous path, or circuit. When we draw a circuit diagram a complete circuit can involve either a close loop, or a circuit in which different parts are connected to a common potential, or ground.\n",
    "\n",
    "![im.png](images/closedandgroundcircuit.png)"
   ]
  },
  {
   "cell_type": "markdown",
   "id": "bb39b8ca",
   "metadata": {},
   "source": [
    "### Ohm's law\n",
    "\n",
    "[Georg Ohm](https://en.wikipedia.org/wiki/Georg_Ohm) discovered that for most metallic conductors, there is a linear relationship between the voltage applied across them $V$ and the current that flows through them $I$. The quantity connecting them is the electrical resistance $R$ which is measured in [ohms](https://en.wikipedia.org/wiki/Ohm). The symbol for ohms is $\\Omega$, and it is equivalent to $\\mathrm{\\frac{V}{A}}$.\n",
    "\n",
    "Ohm's law state that \n",
    "\n",
    "$V=IR$\n",
    "\n",
    "It should be noted that Ohm's law is not valid for all materials, and typically the resistance $R$ depends on factors such as temperature. For example, as a filament light bulb heats up it's resistance will increase.\n"
   ]
  },
  {
   "cell_type": "markdown",
   "id": "45c12ef3",
   "metadata": {},
   "source": [
    "### Resistors\n",
    "\n",
    "In a circuit it is useful to have elements with fixed resistance, which nicely obey Ohm&#039;s law, these are called [resistors](https://en.wikipedia.org/wiki/Resistor). There are many different kinds of resistors but all fixed resistors are denoted by the symbol\n",
    "\n",
    "![im.png](images/resistance.png)\n",
    "\n",
    "The value of a resistor can be determined by reading it's [color code](https://en.wikipedia.org/wiki/Electronic_color_code)"
   ]
  },
  {
   "cell_type": "markdown",
   "id": "a66b30a1",
   "metadata": {},
   "source": [
    "### Resistivity and conductivity\n",
    "\n",
    "The resistance of a wire is proportional to it's length $l$ , inversely proportional to it';s cross sectional area $A$ and also depends on the material property, [resistivity](https://en.wikipedia.org/wiki/Electrical_resistivity_and_conductivity), $\\rho$, which is measured in $\\mathrm{\\Omega m}$\n",
    "\n",
    "$R=\\rho\\frac{l}{A}$\n",
    "\n",
    "![im.png](images/resistivity.png)\n",
    "\n",
    "The reciprocal of the resistivity of a material is the conductivity\n",
    "\n",
    "$\\sigma=\\frac{1}{\\rho}$\n",
    "\n",
    "measured in $\\mathrm{(\\Omega m)^{-1}}$\n",
    "\n",
    "The values of resistivity exhibited by different materials have the widest range of any physical quantity, from about $1\\times10^{-8}\\,\\mathrm{\\Omega m}$ for the best conductors to $1\\times10^{24}\\,\\mathrm{\\Omega m}$ for the best insulators.\n"
   ]
  },
  {
   "cell_type": "markdown",
   "id": "4255d696",
   "metadata": {},
   "source": [
    "### Temperature dependence of resistivity\n",
    "\n",
    "Within a moderate temperature range the dependence of [resistivity](https://en.wikipedia.org/wiki/Electrical_resistivity_and_conductivity) on temperature can be approximated by\n",
    "\n",
    "$\\rho=\\rho_{0}[1+\\alpha(T-T_{0})]$\n",
    "\n",
    "$T_{0}$ is normally $20\\mathrm{^{o}C}$, but could also be taken to be different temperatures in particular circumstances. Like resistivity, the value of $\\alpha$ also varies from material to material."
   ]
  },
  {
   "cell_type": "code",
   "execution_count": null,
   "id": "5d3ebbba",
   "metadata": {},
   "outputs": [],
   "source": []
  }
 ],
 "metadata": {
  "kernelspec": {
   "display_name": "Python 3 (ipykernel)",
   "language": "python",
   "name": "python3"
  },
  "language_info": {
   "codemirror_mode": {
    "name": "ipython",
    "version": 3
   },
   "file_extension": ".py",
   "mimetype": "text/x-python",
   "name": "python",
   "nbconvert_exporter": "python",
   "pygments_lexer": "ipython3",
   "version": "3.9.10"
  }
 },
 "nbformat": 4,
 "nbformat_minor": 5
}
