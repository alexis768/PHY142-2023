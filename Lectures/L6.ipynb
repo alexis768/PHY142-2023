{
 "cells": [
  {
   "cell_type": "markdown",
   "id": "ba85b49c",
   "metadata": {},
   "source": [
    "## Lecture 6 - Electric Potential"
   ]
  },
  {
   "cell_type": "markdown",
   "id": "2b2a579c",
   "metadata": {},
   "source": [
    "### Electrical potential energy\n",
    "\n",
    "In PHY 141 when we discussed conservation of energy we defined potential energy for a conservative force to be\n",
    "\n",
    "$\\Delta U =  -\\int_{1}^{2}\\vec{F}\\cdot\\,d\\vec{l} = - W_{Net} $\n",
    "\n",
    "In the case where a charge is moved a distance $d$ by a uniform electric field $E$ the work done is \n",
    "\n",
    "$W=Fd=qEd$\n",
    "\n",
    "we can note here that this became a simple product because the charge moved in the direction of the field (as we can expect it should do if the only force acting is the electric force)\n",
    "\n",
    "and the change in the electric potential energy is \n",
    "\n",
    "$\\Delta U=-W=-qEd$\n"
   ]
  },
  {
   "cell_type": "markdown",
   "id": "ac22d78a",
   "metadata": {},
   "source": [
    "### Electric potential\n",
    "\n",
    "In the same way it was useful to define electric field as the electric force divided by the charge it is also useful to define electric potential.\n",
    "\n",
    "If we define the electric potential energy at a point as $U$ then the electric potential at that point $V$ is\n",
    "\n",
    "$V=\\frac{U}{q}$\n",
    "\n",
    "In the example we just considered where a charge was moved a distance $d$ by a field $E$\n",
    "\n",
    "$\\Delta U=-W=-qEd \\rightarrow\\Delta V=-Ed$\n",
    "\n",
    "We should note that we have been careful to consider differences in potential, as with other forms of potential energy, the zero of electric potential energy, and hence electric potential, can be set arbitrarily.\n",
    "\n",
    "The unit for electric potential is the volt $V$ and we can see that as the volt is derived from dividing energy by charge $1V=1\\frac{J}{C}$\n",
    "\n",
    "We can also see from the equation above that an equivalent unit for field to $\\mathrm{N/C}$ is $\\mathrm{V/m}$."
   ]
  },
  {
   "cell_type": "markdown",
   "id": "d958acb6",
   "metadata": {},
   "source": [
    "### Signs\n",
    "\n",
    "We should note that potential is defined with positive charges in mind, ie. a positive charge at a high potential with respect to some other point has a high potential energy with respect to that point, whereas a negative charge at a high potential with respect to some other point has a low potential energy with respect to that point.\n",
    "\n",
    "If we try to make an analogy with gravitational potential we say that positive charges tend to \"fall\" (A positive charge, if free to move in an electric field, will move from a high potential point to a low potential point) and negative charges \"rise\" (A negative charge, if free to move in an electric field, will move from a low potential point to a high potential point).\n",
    "\n",
    "\n",
    "This information is contained in the equation\n",
    "\n",
    "\n",
    "$\\Delta U = q\\Delta V$"
   ]
  },
  {
   "cell_type": "markdown",
   "id": "aa997dbe",
   "metadata": {},
   "source": [
    "### Producing electric potential\n",
    "\n",
    "In a [battery](https://en.wikipedia.org/wiki/Electric_battery) chemical potential energy is used to create a potential difference between two terminals. As the battery runs down the potential difference stays fairly constant, but the amount of charge available decreases. There is a fixed amount of chemical potential energy available to be converted to electrical potential energy.\n",
    "\n",
    "A [Wimshurst machine](https://en.wikipedia.org/wiki/Wimshurst_machine) allows the conversion of mechanical potential energy into a large electrical potential. The amount of charge separated is not large, so while there is a very large potential difference between the two terminals the amount of electrical potential energy produced by the machine is not very large. To understand why the potential is so large we will need to discuss capacitance (next week!). You can find a nice explanation here of [how the machine works](http://www.coe.ufrj.br/~acmq/whyhow.html).\n",
    "\n",
    "The spark occurs when the electric field between the two terminals exceeds the field for [electrical breakdown](https://en.wikipedia.org/wiki/Electrical_breakdown) of the air between them. The breakdown field for air is approximately $3\\times10^{6}\\mathrm{V/m}$."
   ]
  },
  {
   "cell_type": "markdown",
   "id": "095b9bbd",
   "metadata": {},
   "source": [
    "### Electric potential and field\n",
    "\n",
    "The electric potential and field are easily related. \n",
    "\n",
    "$U_{b}-U_{a} =  -\\int_{a}^{b}\\vec{F}\\cdot\\,d\\vec{l} $\n",
    "\n",
    "$V_{b}-V_{a}=\\frac{U_{b}-U_{a}}{q}=-\\int_{a}^{b}\\vec{E}\\cdot\\,d\\vec{l} $\n",
    "\n",
    "In the special case of a uniform electric field where the distance between points $a$ and $b$ is $d$\n",
    "\n",
    "$V_{b}-V_{a}=-\\int_{a}^{b}\\vec{E}\\cdot\\,d\\vec{l}=-E\\int_{a}^{b}dl=-Ed $\n",
    "\n",
    "When the field is not uniform we can obtain the potential from the field by integration."
   ]
  },
  {
   "cell_type": "markdown",
   "id": "58b2ead1",
   "metadata": {},
   "source": [
    "### Potential due to a point charge\n",
    "\n",
    "If we want to find the change in potential in going from a distance $r_{a}$ to a distance $r_{b}$ from a single point charge we need to evaluate the integral\n",
    "\n",
    "$V_{b}-V_{a}=-\\int_{r_{a}}^{r_{b}}\\vec{E}.d\\vec{l}$\n",
    "\n",
    "We can recall that the field is \n",
    "\n",
    "$E=\\frac{1}{4\\pi\\varepsilon_{0}}\\frac{Q}{r^{2}}$\n",
    "\n",
    "If we integrate along a path which is directly radially outward $\\vec{E}$ and $d\\vec{l}$ are in the same direction and\n",
    "\n",
    "$-\\int_{r_{a}}^{r_{b}}\\vec{E}.d\\vec{l}=-\\frac{Q}{4\\pi\\varepsilon_{0}}\\int_{r_{a}}^{r_{b}}\\frac{1}{r^{2}}dr=\\frac{Q}{4\\pi\\varepsilon_{0}}[\\frac{1}{r}]_{r_{a}}^{r_{b}}=\\frac{Q}{4\\pi\\varepsilon_{0}}(\\frac{1}{r_{b}}-\\frac{1}{r_{a}})$\n",
    "\n",
    "It is common to define the potential as being zero at $\\infty$, and if we do this here (setting $r_{a}=\\infty$) the potential as a function of the distance $r$ from a point charge is \n",
    "\n",
    "$V=\\frac{1}{4\\pi\\varepsilon_{0}}\\frac{Q}{r}$"
   ]
  },
  {
   "cell_type": "markdown",
   "id": "b147ed7d",
   "metadata": {},
   "source": [
    "### Work done in bringing two charges together\n",
    "\n",
    "We just showed that the potential due to a point charge as a function of the distance from the charge is \n",
    "\n",
    "$V=\\frac{1}{4\\pi\\varepsilon_{0}}\\frac{Q}{r}$\n",
    "\n",
    "If I have another charge $q$ that I want to move from a distance $r_{a}$ to a distance $r_{b}$ then the change in the potential is \n",
    "\n",
    "$V_{b}-V_{a}=\\frac{Q}{4\\pi\\varepsilon_{0}}(\\frac{1}{r_{b}}-\\frac{1}{r_{a}})$\n",
    "\n",
    "and the work done is\n",
    "\n",
    "$W=q(V_{b}-V_{a})=q(\\frac{Q}{4\\pi\\varepsilon_{0}}(\\frac{1}{r_{b}}-\\frac{1}{r_{a}}))$\n",
    "\n",
    "We should note that here we have taken into account the fact that the field through which are moving the charge is not uniform, we cannot simply say that $W=qEd$"
   ]
  },
  {
   "cell_type": "markdown",
   "id": "7a220bf7",
   "metadata": {},
   "source": [
    "### Charged conducting sphere\n",
    "\n",
    "If we consider a conducting sphere of radius $r_{0}$ that carries a total charge of \n",
    "$Q$ on it's surface we can easily determine from Gauss's law that\n",
    "\n",
    "$E=0$&nbsp;&nbsp;&nbsp;&nbsp;&nbsp;&nbsp;&nbsp;&nbsp;&nbsp;&nbsp;&nbsp;&nbsp;&nbsp;&nbsp;&nbsp;&nbsp; $[r>r_{0}]$<br/>\n",
    "\n",
    "$E=\\frac{1}{4\\pi\\epsilon_{0}}\\frac{Q}{r^2}$&nbsp;&nbsp;&nbsp;&nbsp;&nbsp;&nbsp;&nbsp;&nbsp;&nbsp;&nbsp; $[r\\geq r_{0}]$\n",
    "\n",
    "As we did in the case of a point charge the integral $V_{b}-V_{a}=-\\int_{r_{a}}^{r_{b}}\\vec{E}.d\\vec{l}$ can be done along a radial path so that $\\vec{E}$ and $d\\vec{l}$ are in the same direction.\n",
    "\n",
    "If we restrict our integral to points outside the sphere\n",
    "\n",
    "$-\\int_{r_{a}}^{r_{b}}\\vec{E}.d\\vec{l}=-\\frac{Q}{4\\pi\\varepsilon_{0}}\\int_{r_{a}}^{r_{b}}\\frac{1}{r^{2}}dr=\\frac{Q}{4\\pi\\varepsilon_{0}}[\\frac{1}{r}]_{r_{a}}^{r_{b}}=\\frac{Q}{4\\pi\\varepsilon_{0}}(\\frac{1}{r_{b}}-\\frac{1}{r_{a}})$\n",
    "\n",
    "and as before define the potential as being zero at $\\infty$\n",
    "\n",
    "$V=\\frac{1}{4\\pi\\varepsilon_{0}}\\frac{Q}{r}$&nbsp;&nbsp;&nbsp;&nbsp;&nbsp;&nbsp;&nbsp;&nbsp;&nbsp;&nbsp; $[r>r_{0}]$\n",
    "\n",
    "This implies that at $r=r_{0}$\n",
    "\n",
    "$V=\\frac{1}{4\\pi\\varepsilon_{0}}\\frac{Q}{r_{0}}$\n",
    "\n",
    "and as inside the sphere $E=0$ the integral $-\\int_{r_{a}}^{r_{b}}\\vec{E}.d\\vec{l}=0$  which implies that everywhere inside the sphere\n",
    "\n",
    "$V=\\frac{1}{4\\pi\\varepsilon_{0}}\\frac{Q}{r_{0}}$&nbsp;&nbsp;&nbsp;&nbsp;&nbsp;&nbsp;&nbsp;&nbsp;&nbsp;&nbsp; $[r\\leq r_{0}]$\n",
    "\n",
    "Indeed, we can say generally that **in addition to the field inside a conductor being everywhere zero, the potential at every point in conductor is everywhere the same.**"
   ]
  },
  {
   "cell_type": "markdown",
   "id": "632aca7f",
   "metadata": {},
   "source": [
    "###  Potential directly from charge\n",
    "\n",
    "Whenever we have determined the electric field as a function of position we should be able to calculate the electric potential. Sometimes however the vector nature of the field can make this tricky. One of the great appeals of electric potential is that it is a scalar quantity, and therefore it can be easier to find the potential due to multiple charges or a distribution of charges than it is to find the field.\n",
    "\n",
    "![im.png](images/potentialfrom2charges.png)\n",
    "\n",
    "For example if I want to calculate the field due to equal positive and negative charges separated by some distance I need to pay attention to directions of the field, whereas to find the potential I simply add together the potential of each charge. We denote the negative charge as $A$ and the positive charge as $B$ and we can then say that the potential is given by\n",
    "\n",
    "$V=\\frac{1}{4\\pi\\varepsilon_{0}}(-\\frac{Q}{R_{A}}+\\frac{Q}{R_{B}})$\n",
    "\n",
    "We can note that anywhere on the plane that lies in between the two charges the potential will be equal to zero. As each point on this plane has the same potential we call it an equipotential surface. Although the equipotential surface we have just considered is the most trivial to identify we could in fact identify an infinite number of equipotential surfaces (however, none of the others will be flat!).\n",
    "\n",
    "We can take a closer look at the equipotetials in [this applet](https://phet.colorado.edu/sims/html/charges-and-fields/latest/charges-and-fields_en.html).\n",
    "Or [this one](https://www.geogebra.org/m/khVy6MZa)."
   ]
  },
  {
   "cell_type": "markdown",
   "id": "48401f5f",
   "metadata": {},
   "source": [
    "### Potential due to a continuous distribution of charge\n",
    "\n",
    "From the previous example we can conclude that for $n$ point charges each which produces a potential $V_{i}$ at point A the potential at point $A$ will be \n",
    "\n",
    "$V_{A}=\\sum\\limits_{i=1}^{n}V_{i}=\\frac{1}{4\\pi\\varepsilon_{0}}\\sum\\limits_{i=1}^{n}\\frac{Q_{i}}{r_{ia}}$\n",
    "\n",
    "Now if we want to instead consider a continuous charge distribution\n",
    "\n",
    "$V=\\frac{1}{4\\pi\\varepsilon_{0}}\\int\\frac{dq}{r}$"
   ]
  },
  {
   "cell_type": "markdown",
   "id": "364f7d19",
   "metadata": {},
   "source": [
    "### Potential due to a ring of charge\n",
    "\n",
    "We can now consider a thin ring of charge, total charge $Q$ with radius $R$. We can ask what the potential is at a point on the axis going through the center of the ring a distance $x$ from the center of the ring. This situation is quite easy because all the charge is at the same distance from the point. So that the integral \n",
    "\n",
    "$V=\\frac{1}{4\\pi\\varepsilon_{0}}\\int\\frac{dq}{r}=\\frac{1}{4\\pi\\varepsilon_{0}}\\frac{1}{(x^{2}+R^{2})^{1/2}}\\int dq=\\frac{1}{4\\pi\\varepsilon_{0}}\\frac{Q}{(x^{2}+R^{2})^{1/2}}$\n",
    "\n",
    "![im.png](images/ringofchargepotential.png)"
   ]
  },
  {
   "cell_type": "markdown",
   "id": "e2d22491",
   "metadata": {},
   "source": [
    "### Next Lecture\n",
    "\n",
    "* More examples on how to calculate potential\n",
    "* How to get field from potential\n",
    "* A closer look at electrostatic potential energy"
   ]
  },
  {
   "cell_type": "code",
   "execution_count": null,
   "id": "2607d139",
   "metadata": {},
   "outputs": [],
   "source": []
  }
 ],
 "metadata": {
  "kernelspec": {
   "display_name": "Python 3 (ipykernel)",
   "language": "python",
   "name": "python3"
  },
  "language_info": {
   "codemirror_mode": {
    "name": "ipython",
    "version": 3
   },
   "file_extension": ".py",
   "mimetype": "text/x-python",
   "name": "python",
   "nbconvert_exporter": "python",
   "pygments_lexer": "ipython3",
   "version": "3.9.10"
  }
 },
 "nbformat": 4,
 "nbformat_minor": 5
}
