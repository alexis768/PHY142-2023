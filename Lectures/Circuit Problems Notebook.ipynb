{
 "cells": [
  {
   "cell_type": "code",
   "execution_count": 1,
   "id": "c6f14701",
   "metadata": {},
   "outputs": [],
   "source": [
    "import numpy as np"
   ]
  },
  {
   "cell_type": "markdown",
   "id": "1347484c",
   "metadata": {},
   "source": [
    "### Solution of problems involving ciruits and reistors"
   ]
  },
  {
   "cell_type": "markdown",
   "id": "70f003c2",
   "metadata": {},
   "source": [
    "![im.pnm](images/wheatstoneGeneral.png)"
   ]
  },
  {
   "cell_type": "code",
   "execution_count": 4,
   "id": "69a38c46",
   "metadata": {},
   "outputs": [
    {
     "name": "stdout",
     "output_type": "stream",
     "text": [
      "[0.1 0.1 0.1 0.1 0. ]\n"
     ]
    }
   ],
   "source": [
    "R1=5\n",
    "R2=5\n",
    "R3=5\n",
    "R4=5\n",
    "R5=10\n",
    "V =1\n",
    "A = [[1,1,-1,-1,0],\n",
    "    [R1,0,0,R4,0],\n",
    "    [0,0,R3,-R4,-R5],\n",
    "    [0,1,-1,0,-1],\n",
    "    [0,R2,0,R4,R5]]\n",
    "b = [0,V,0,0,V]\n",
    "# Now simply solve for x\n",
    "I = np.dot(np.linalg.inv(A), b) \n",
    "#np.linalg.inv(A)  is simply the inverse of A, np.dot is the dot product\n",
    "print(I)\n"
   ]
  },
  {
   "cell_type": "code",
   "execution_count": null,
   "id": "6d836a7d",
   "metadata": {},
   "outputs": [],
   "source": [
    "R1=5\n",
    "R2=5\n",
    "R3=5\n",
    "R4=5\n",
    "R5=10\n",
    "V =1\n",
    "A = [[1,-1,-1,0,0],\n",
    "    [0,0,1,-1,-1],\n",
    "    [1],\n",
    "    [0,1,-1,0,-1],\n",
    "    [0,R2,0,R4,R5]]\n",
    "b = [0,V,0,0,V]\n",
    "# Now simply solve for x\n",
    "I = np.dot(np.linalg.inv(A), b) \n",
    "#np.linalg.inv(A)  is simply the inverse of A, np.dot is the dot product\n",
    "print(I)"
   ]
  }
 ],
 "metadata": {
  "kernelspec": {
   "display_name": "Python 3 (ipykernel)",
   "language": "python",
   "name": "python3"
  },
  "language_info": {
   "codemirror_mode": {
    "name": "ipython",
    "version": 3
   },
   "file_extension": ".py",
   "mimetype": "text/x-python",
   "name": "python",
   "nbconvert_exporter": "python",
   "pygments_lexer": "ipython3",
   "version": "3.9.10"
  }
 },
 "nbformat": 4,
 "nbformat_minor": 5
}
