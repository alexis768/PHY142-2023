{
 "cells": [
  {
   "cell_type": "markdown",
   "id": "71d53196",
   "metadata": {},
   "source": [
    "## Lecture 2 - Electric Force and Fields\n",
    "In this lecture we will discussion the addition of electric forces, introduce the concept of electric fields, and look at how electric field and forces on moving charges and dipoles can be treated using the physics we learned last semester.\n",
    "\n"
   ]
  },
  {
   "cell_type": "markdown",
   "id": "656df111",
   "metadata": {},
   "source": [
    "### Coulom's Law\n",
    "\n",
    "\n",
    "$F=k\\frac{Q_{1}Q_{2}}{r^{2}}$\n",
    "\n",
    "    \n",
    "where $k=8.99\\times 10^{9}\\mathrm{Nm^{2}/C^{2}}$. \n",
    "\n",
    "    \n",
    "$k$ can  also be written $k=\\frac{1}{4\\pi \\epsilon_{0}}$ where $\\epsilon_{0}$ is the permittivity of free space, $\\epsilon_{0}=8.85\\times10^{-12}\\mathrm{C^{2}/Nm^{2}}$.\n",
    "\n",
    "    \n",
    "Like all forces, electric forces are vectors. The form of Coulomb's law shown here is appropriate for point charges, but we will learn later on how to deal with distributions of charge using calculus. Note that in any given case a charge exerts an equal and opposite force on another charge to the force that the other charge exerts on it, and thus satisfies Newton's third law. \n",
    "\n",
    "    \n",
    "![im.png](images/coulombdirection.png)"
   ]
  },
  {
   "cell_type": "markdown",
   "id": "549350c0",
   "metadata": {},
   "source": [
    "### Force due to more than one charge\n",
    "The best approach for finding the force on one point charge due to other point charges is to find the force on the charge due to each charge around it and sum the forces together, paying attention to the direction of the force!.\n",
    "![im.png](images/chargesinaline.png)\n",
    "\n",
    "For the above\n",
    "\n",
    "$F_{1}=(k\\frac{Q_{1}Q_{2}}{l_{12}^{2}}+k\\frac{Q_{1}Q_{3}}{(l_{12}+l_{23})^{2}})\\,\\mathrm{N}$ to the right\n",
    "\n",
    "$F_{2}=(k\\frac{Q_{1}Q_{2}}{l_{12}^{2}}+k\\frac{Q_{2}Q_{3}}{l_{23}^{2}})\\,\\mathrm{N}$ to the left\n",
    "\n",
    "$F_{3}=(k\\frac{Q_{1}Q_{3}}{(l_{12}+l_{23})^{2}}-k\\frac{Q_{2}Q_{3}}{l_{23}^{2}})\\,\\mathrm{N}$ to the left\n",
    "\n"
   ]
  },
  {
   "cell_type": "markdown",
   "id": "40d3cedf",
   "metadata": {},
   "source": [
    "### Non-linear charge distributions\n",
    "\n",
    "When charges are not lined up nicely in a line the force terms need to be added as vectors, the length of each vector may be found using Coulomb's law:\n",
    "\n",
    "$F=k\\frac{Q_{1}Q_{2}}{r^{2}}$\n",
    "\n",
    "![im.png](images/coulombvectors.png)"
   ]
  },
  {
   "cell_type": "markdown",
   "id": "f9042167",
   "metadata": {},
   "source": [
    "### Electric Fields\n",
    "In order to consider the general effect that a charge or distribution of charges will have on charges in their vicinity we can introduce the concept of an electric field.\n",
    "\n",
    "The electric field $\\vec{E}$ is defined as the force $\\vec{F}$ a small positive test charge with charge $q$ would experience, divided by that charge, i.e.\n",
    "\n",
    "$\\vec{E}=\\frac{\\vec{F}}{q}$\n",
    "\n",
    "The SI units of electric field are N/C\n",
    " (you will also see fields given in V/m but we haven't defined the volt yet!)\n",
    "\n",
    "The magnitude of the electric field due to a single point charge Q at a distance r from the charge is\n",
    "\n",
    "$E=k\\frac{Qq}{q r^{2}}=k\\frac{Q}{ r^{2}}=\\frac{Q}{4\\pi\\epsilon_0 r^{2}}$\n",
    "\n",
    "\n",
    "Given the field $\\vec{E}$ at a point in space we can work out the force $\\vec{F}$\n",
    " on an arbitrary charge q using\n",
    "\n",
    "$\\vec{F} = q \\vec{E}$\n",
    "\n",
    "A positive charge experiences a force in the same direction as the field, a negative charge feels a force in the opposite direction to the field."
   ]
  },
  {
   "cell_type": "markdown",
   "id": "38ecc448",
   "metadata": {},
   "source": [
    "### Field distributions and field lines\n",
    "The field due to multiple charges may be found by summing up all the individual fields.\n",
    "\n",
    "We can explore the field distribution around various collections of charges using this [applet](https://phet.colorado.edu/sims/html/charges-and-fields/latest/charges-and-fields_en.html) or in real life using a [Geissler tube](https://en.wikipedia.org/wiki/Geissler_tube).\n",
    "\n",
    "We often represent electric fields by drawing field lines, these lines point in the direction of the electric field, and the strength of the field is represented by the spacing of the lines, the closer the spacing of the lines the stronger the field. "
   ]
  },
  {
   "cell_type": "markdown",
   "id": "5568b8e8",
   "metadata": {},
   "source": [
    "### Charge moving in an electric field\n",
    "The force on a charge q in an electric field is\n",
    "\n",
    "$\\vec{F} = q \\vec{E}$\n",
    "\n",
    "Electric fields can be used to accelerate electrons and control their path, in the lab you will use a device that makes use of this, an oscilloscope based on a cathode ray tube. As in televisions this technology is rapidly being phased out by digital displays, but the physics is still valid!\n",
    "\n",
    "![im.png](images/oscilloscopecrt.jpeg)"
   ]
  },
  {
   "cell_type": "markdown",
   "id": "a4516eb9",
   "metadata": {},
   "source": [
    "### Electron Gun\n",
    "\n",
    "\n",
    "In the electron gun, electrons are first generated by a thermal emission process, and then accelerated by an electric field. In a fairly short distance an electron can be accelerated to a very high speed.\n",
    "\n",
    "If we consider a field of $E=1\\times10^{4}\\mathrm{N/C}$ over a distance of $1\\mathrm{cm}$ we can calculate the velocity using our kinematic equations of motion.\n",
    "\n",
    "The acceleration produced by the field will be\n",
    "\n",
    "$a=\\frac{F}{m}=\\frac{qE}{m}=\\frac{1.602\\times10^{-19}\\times1\\times10^{4}}{9.11\\times10^{-31}}=1.76\\times10^{15}\\mathrm{ms^{-2}}$\n",
    "\n",
    "$v^{2}=v_{0}^{2}+2ax$\n",
    "\n",
    "$v=\\sqrt{2ax}=\\sqrt{2\\times1.76\\times10^{15}\\times1\\times10^{-2}}=6\\times10^{6}\\mathrm{ms^{-1}}$\n",
    "\n",
    "\n",
    "We should note that as we try to accelerate electrons closer to the speed of light it becomes harder to do so. Hence to achieve the acceleration of charged particles to very fast speeds very large electric potentials are required. One way to do this is using a similar concept to the  Van der Graaf generator. In fact there is a large Van der Graaff accelerator underneath Stony Brook (between Physics and Chemistry)! This is no longer used for research but is currently being converted in to a teaching tool, through the Center for Accelerator Science (CASE).\n"
   ]
  },
  {
   "cell_type": "markdown",
   "id": "013ed8c7",
   "metadata": {},
   "source": [
    "### Electron deflection\n",
    "\n",
    "Suppose we have an electron in the oscilloscope tube that has been accelerated by the electron gun to $6\\times10^{6}\\mathrm{ms^{-1}}$. We want to deflect it from it's path by $1^{o}$.\n",
    "\n",
    "How much field needs to be generated between the deflection plates (length $2\\mathrm{cm}$) to achieve this?\n",
    "\n",
    "$v_{x}=6\\times10^{6}\\mathrm{ms^{-1}}$\n",
    "\n",
    "$v_{y}=v_{y0}+at$\n",
    "\n",
    "$t=\\frac{x}{v_{x}}=\\frac{2\\times10^{-2}}{6\\times10^{6}}=3.33\\times10^{-9}\\mathrm{s}$\n",
    "\n",
    "$1^{o}=\\frac{2\\pi}{360}=0.0175$\n",
    "\n",
    "For small angles $\\tan\\theta\\approx\\theta$\n",
    "\n",
    "$\\frac{v_{y}}{v_{x}}=0.0175\\to v_{y}=0.0175v_{x}$\n",
    "\n",
    "$a=\\frac{v_{y}}{t}$\n",
    "\n",
    "$a=\\frac{F}{m}=\\frac{qE}{m}$\n",
    "\n",
    "$E=\\frac{m}{q}0.0175\\frac{v_{x}}{t}=\\frac{9.11\\times10^{-31}}{1.602\\times10^{-19}}0.0175\\frac{6\\times10^{6}}{3.33\\times10^{-9}}=179\\mathrm{N/C}$\n"
   ]
  },
  {
   "cell_type": "markdown",
   "id": "fb9cf6bc",
   "metadata": {},
   "source": [
    "### Electric dipoles\n",
    "\n",
    "Two equal charges separated by a fixed distance (for example in a molecule) form an electric dipole. To describe a dipole we define a vector called the dipole moment which points from the negative charge to the positive charge. The dipole moment is defined as\n",
    "\n",
    "$\\vec{p}=Q\\vec{l}$\n",
    "\n",
    "![im.png](images/electricdipole.png)\n",
    "\n",
    "A dipole in an electric field, unlike a charge, does not experience a net force. However, if the dipole is not aligned with the field it does experience a torque.\n",
    "\n",
    "![im.png](images/dipoleinfield.png)\n",
    "\n",
    "$\\tau=QE\\frac{l}{2}\\sin\\theta+QE\\frac{l}{2}\\sin\\theta=pE\\sin\\theta$\n",
    "\n",
    "\n",
    "or\n",
    "\n",
    "$\\vec{\\tau}=\\vec{p}\\times\\vec{E}$"
   ]
  },
  {
   "cell_type": "markdown",
   "id": "563a1fa1",
   "metadata": {},
   "source": [
    "### Work done in rotating a dipole in a field\n",
    "\n",
    "From last semester's (see lecture 17) work on rotational dynamics, we know that if we know the torque that needs to be applied to rotate an object we can find the work done using\n",
    "\n",
    "$W=\\int_{\\theta_{1}}^{\\theta_{2}}\\tau\\,d\\theta$\n",
    "\n",
    "Using the result we just derived\n",
    "\n",
    "$\\vec{\\tau}=\\vec{p}\\times\\vec{E}$\n",
    "\n",
    "we can say that\n",
    "\n",
    "$W=\\int_{\\theta_{1}}^{\\theta_{2}}\\tau\\,d\\theta=-pE\\int_{\\theta_{1}}^{\\theta_{2}}\\sin\\theta\\,d\\theta=pE[\\cos\\theta]_{\\theta_{1}}^{\\theta_{2}}$\n",
    "\n",
    "If we say that the potential energy is zero when the dipole is perpendicular to the field and the field is uniform we can define the potential energy as\n",
    "\n",
    "\n",
    "$U=-W=-pE\\cos\\theta=-\\vec{p}\\cdot\\vec{E}$\n",
    "\n",
    "![im.png](images/dipoleinfield.png)\n"
   ]
  },
  {
   "cell_type": "code",
   "execution_count": null,
   "id": "a8579b74",
   "metadata": {},
   "outputs": [],
   "source": []
  }
 ],
 "metadata": {
  "kernelspec": {
   "display_name": "Python 3 (ipykernel)",
   "language": "python",
   "name": "python3"
  },
  "language_info": {
   "codemirror_mode": {
    "name": "ipython",
    "version": 3
   },
   "file_extension": ".py",
   "mimetype": "text/x-python",
   "name": "python",
   "nbconvert_exporter": "python",
   "pygments_lexer": "ipython3",
   "version": "3.9.10"
  }
 },
 "nbformat": 4,
 "nbformat_minor": 5
}
