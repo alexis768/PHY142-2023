{
 "cells": [
  {
   "cell_type": "markdown",
   "id": "1384e521",
   "metadata": {},
   "source": [
    "## Lecture 9 - Dielectrics"
   ]
  },
  {
   "cell_type": "markdown",
   "id": "2555bbc2",
   "metadata": {},
   "source": [
    "### Dielectric materials\n",
    "\n",
    "[Dielectrics](https://en.wikipedia.org/wiki/Dielectric) are insulating materials, they do not contain significant amounts of free charge, so charges on the plates of a capacitor that contain dielectrics still cannot pass from one side of the capacitor. \n",
    "\n",
    "\n",
    "However, when a dielectric material is placed in an electric field it develops an electrical polarization. This can arise through several different physical mechanisms, for example, if the material has molecular dipoles they will orient themselves to line up with the field. Some crystals will develop electric dipoles in response to an electric field.\n",
    "![im.png](images/atomicpolarization.png)\n",
    "\n",
    "![im.png](images/waterdielectric.png)\n",
    "![im.png](images/perovskitedipole.png)"
   ]
  },
  {
   "cell_type": "markdown",
   "id": "565c946f",
   "metadata": {},
   "source": [
    "### Electric Polarization\n",
    "\n",
    "![im.png](images/dipolesandpolarization.png)\n",
    "\n",
    "The polarization $P$ of a material is the dipole moment per unit volume. At the surface of the dielectric there is a charge density equal to the polarization, but this charge is not free to move and is called the bound charge $\\sigma_{B}$\n"
   ]
  },
  {
   "cell_type": "markdown",
   "id": "89daad20",
   "metadata": {},
   "source": [
    "### Dielectric in a field\n",
    "\n",
    "At the boundary of the dielectric the boundary condition is that $E_{air}=\\frac{P}{\\varepsilon_{0}}+E_{dielectric}$. For most dielectric materials we can say that the polarization is given by $P=\\chi \\varepsilon_{0} E_{dielectric}$ where $\\chi$ is the dielectric susceptibility. The quantity $K=1+\\chi$ is called the dielectric constant of the material and the equation we wrote before becomes\n",
    "\n",
    "$E_{air}=KE_{dielectric}$\n",
    "\n",
    "As there is no way for dipoles to occur in vacuum it has susceptibility $\\chi=0$, giving $K=1$\n",
    "\n",
    "Air has very little susceptibility and so $K$ for air is just a little bit greater than 1  \n",
    "\n",
    "For a dielectric material where $K>1$ the field is less in the dielectric than in the air. A key characteristic of a dielectric is the partial exclusion of the external field from the interior of the material.\n",
    "\n",
    "![im.png](images/dielectricinfield.png)"
   ]
  },
  {
   "cell_type": "markdown",
   "id": "c32e2d05",
   "metadata": {},
   "source": [
    "### Dielectric in a capacitor\n",
    "\n",
    "$E_{dielectric}=E_{air}-\\frac{P}{\\varepsilon_{0}}$\n",
    "\n",
    "$E_{dielectric}=\\frac{Q}{\\varepsilon_{0} A}-\\frac{P}{\\varepsilon_{0}}=\\frac{Q}{\\varepsilon_{0} A}-\\chi E_{dielectric}$\n",
    "\n",
    "$KE_{dielectric}=\\frac{Q}{\\varepsilon_{0} A}$\n",
    "\n",
    "$E_{dielectric}=\\frac{V}{d}$\n",
    "\n",
    "$K\\frac{V}{d}=\\frac{Q}{\\varepsilon_{0} A}$\n",
    "\n",
    "$C=\\frac{Q}{V}=K\\frac{\\varepsilon_{0}A}{d}$\n",
    "\n",
    "![im.png](images/dielectricincap.png)"
   ]
  },
  {
   "cell_type": "markdown",
   "id": "8a1908c3",
   "metadata": {},
   "source": [
    "### Partially filled capacitor\n",
    "\n",
    "$E_{gap}=\\frac{Q}{\\varepsilon_{0}A}$\n",
    "\n",
    "$KE_{dielectric}=\\frac{Q}{\\varepsilon_{0} A}$\n",
    "\n",
    "$2E_{gap}d_{gap}+E_{dielectric}d_{dielectric}=V$\n",
    "\n",
    "$2\\frac{Q}{\\varepsilon_{0}A}d_{gap}+\\frac{Q}{\\varepsilon_{0}A}\\frac{d_{dielectric}}{K}=V$\n",
    "\n",
    "$\\frac{V}{Q}=\\frac{1}{C}=\\frac{2d_{gap}}{\\varepsilon_{0}A}+\\frac{d_{dielectric}}{K\\varepsilon_{0}A}$\n",
    "\n",
    "This is the same result as we would have got if we had considered the system to be 3 capacitors in series.\n",
    "\n",
    "![im.png](images/partiallyfilledcap.png)"
   ]
  },
  {
   "cell_type": "markdown",
   "id": "4b5bab71",
   "metadata": {},
   "source": [
    "### Effect of the gap\n",
    "\n",
    "We can consider the effect of a gap for an example of a very high dielectric constant material, strontium titanate, which has a room temperature dielectric constant of ~300.\n",
    "\n",
    "A capacitor with an area of $1\\mathrm{cm^{2}}$ and thickness $0.5\\mathrm{mm}$ should have a capacitance of ~500$\\mathrm{pF}$ as compared to a capacitor of the same size filled with air which should have a capacitance of $1.8\\mathrm{pF}$.\n",
    "\n",
    "However if we look at the equation we derived previously.\n",
    "\n",
    "$\\frac{1}{C}=\\frac{2d_{gap}}{\\varepsilon_{0}A}+\\frac{d_{dielectric}}{K\\varepsilon_{0}A}$\n",
    "\n",
    "We can see that only if the gap is very small will we get a substantial enhancement from the insertion of a dielectric in to a capacitor.\n",
    "\n",
    "![im.png](images/gapeffectdielectric.png)"
   ]
  },
  {
   "cell_type": "markdown",
   "id": "73c9e784",
   "metadata": {},
   "source": [
    "### Dielectric breakdown\n",
    "\n",
    "All dielectrics have a maximum electric field that they can withstand, once this field is exceeded conduction can occur and the charge dissipates through the dielectric. Typically the whole dielectric does not breakdown, instead the current will find pathways through the material. This can lead to a dendritic tree like structure of broken down materials called a [Lichtenberg figure](https://en.wikipedia.org/wiki/Lichtenberg_figure)"
   ]
  },
  {
   "cell_type": "markdown",
   "id": "303bcad4",
   "metadata": {},
   "source": [
    "### Jacob's Ladder\n",
    "\n",
    "In a Jacob's ladder, or climbing arc, demonstration when the air breaks down it is heated up and rises. When the voltage difference between two electrodes exceeds the breakdown voltage, a spark forms. In this case, the spark forms between the vertical wires (the electrodes) near the bottom, where they are closest. The spark rapidly changes to an electric arc (a matter of nomenclature at this point, as a spark is generally a very quick and temporary occurrence while an arc is a sustained discharge). The arc heats and ionizes the air in its immediate vicinity. The ionized air maintains the arc, but the heat causes the ionized air to rise, thus the arc rises with the heated and ionized air, becoming less and less stable as it climbs and the separation between the wires increases, until the arc finally breaks. Then it starts again at the base.\n",
    "\n",
    "See it [here](https://www.youtube.com/watch?v=ZO2GwTio_HM)\n"
   ]
  },
  {
   "cell_type": "code",
   "execution_count": null,
   "id": "bbb0d0f7",
   "metadata": {},
   "outputs": [],
   "source": []
  }
 ],
 "metadata": {
  "kernelspec": {
   "display_name": "Python 3 (ipykernel)",
   "language": "python",
   "name": "python3"
  },
  "language_info": {
   "codemirror_mode": {
    "name": "ipython",
    "version": 3
   },
   "file_extension": ".py",
   "mimetype": "text/x-python",
   "name": "python",
   "nbconvert_exporter": "python",
   "pygments_lexer": "ipython3",
   "version": "3.9.10"
  }
 },
 "nbformat": 4,
 "nbformat_minor": 5
}
