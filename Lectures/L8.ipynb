{
 "cells": [
  {
   "cell_type": "markdown",
   "id": "0bf3b51c",
   "metadata": {},
   "source": [
    "## Lecture 8 - Capacitors"
   ]
  },
  {
   "cell_type": "markdown",
   "id": "11837a46",
   "metadata": {},
   "source": [
    "### Separating like charges\n",
    "\n",
    "Capacitors store electrical energy by maintaining a separation of charges. To see how a separation of charges corresponds to a storage of electrical energy let us consider the changes in potential energy as we bring a charge close to another from infinity.\n",
    "\n",
    "A positive point charge produces an electric potential given by\n",
    "\n",
    "$V=\\frac{1}{4\\pi\\varepsilon_{0}}\\frac{Q}{r}$\n",
    "\n",
    "If we move a positive charge of the same magnitude from $r=\\infty$ to some distance $r=d$ the change in the potential energy is $\\Delta U=Q\\Delta V=Q(\\frac{1}{4\\pi\\varepsilon_{0}}\\frac{Q}{d}-\\frac{1}{4\\pi\\varepsilon_{0}}\\frac{Q}{\\infty})=\\frac{1}{4\\pi\\varepsilon_{0}}\\frac{Q^{2}}{d}$\n",
    "\n",
    "The positive charge we moved has gained potential energy $\\frac{1}{4\\pi\\varepsilon_{0}}\\frac{Q^{2}}{d}$. However, it would actually be better to say that the system of charges has gained that electric potential energy, as we could just as easily have looked at this from the perspective of the moved charge. Either charge can move further away from the other and convert some of that potential energy in to some other form of energy. The closer the charges are to each other the more potential energy is available."
   ]
  },
  {
   "cell_type": "markdown",
   "id": "99495cf3",
   "metadata": {},
   "source": [
    "### Separating opposite charges\n",
    "\n",
    "However, this is not a very useful charge configuration for storing energy in a device for us to use. We would like a situation where a charged particle will lose potential energy in going from one terminal to another. If we repeat the analysis above but for charges of different sign, we can see that the potential energy <strong>lost</strong> by bringing a negative charge from $\\infty$ to a distance $d$ from a point charge is  $\\frac{1}{4\\pi\\varepsilon_{0}}\\frac{Q^{2}}{d}$. \n",
    "\n",
    "The important point in terms of our thinking about capacitors is that there is potential energy with respect to the position of the opposite charge whenever there is a separation of the charge. The further the separation the more energy is stored (though for point charges the amount of energy stored drops off as $\\frac{1}{r}$, so the additional stored energy gets less and less significant as the charges get further apart).\n"
   ]
  },
  {
   "cell_type": "markdown",
   "id": "f54dbd6a",
   "metadata": {},
   "source": [
    "### Two sheets of charge\n",
    "\n",
    "![im.png](images/parallelplategauss.png)\n",
    "\n",
    "We don't make capacitors out of point charges. There are various geometries, but the most simple conceptually is the parallel plate capacitor. This consists of two metal plates with area $A$ carrying equal and opposite charges $Q$. The field due to one of these sheets of charges can be found from Gauss's law\n",
    "\n",
    "$E=\\frac{Q}{\\varepsilon_{0}A}$\n",
    "\n",
    "The potential in space due to this sheet of charge is \n",
    "\n",
    "$V=-\\int_0^d Edl=-\\frac{Qd}{\\varepsilon_{0}A}$\n",
    "\n",
    "Here we have defined the zero of potential as the position of the positive sheet of charge.\n",
    "\n",
    "The potential energy of the negative sheet of charge with respect to positive sheet of charge is \n",
    "\n",
    "$U=-Q\\times-\\frac{Qd}{\\varepsilon_{0}A}=\\frac{Q^{2}d}{\\varepsilon_{0}A}$\n",
    "\n",
    "We could have done this the other way round, i.e. to consider the field due to the negative charge and got the same result."
   ]
  },
  {
   "cell_type": "markdown",
   "id": "c4a2fd02",
   "metadata": {},
   "source": [
    "### Voltage across a capacitor\n",
    "\n",
    "For capacitors it makes most sense to define the voltage as the potential difference across the capacitor and give it a positive sign, ie. \n",
    "\n",
    "$V=\\frac{Qd}{\\varepsilon_{0}A}$\n",
    "\n",
    "Charges will not spontaneously separate across a capacitor, we need to apply a potential to the capacitor to move charges from one plate to another. The amount of charge $Q$ separated when a given voltage $V$ is applied is obtained from the equation above\n",
    "\n",
    "$Q=\\frac{\\epsilon_{0}A}{d}V$\n",
    "\n",
    "The capacitance $C$ is the amount of charge separated per volt applied\n",
    "\n",
    "$C=\\frac{Q}{V}$\n",
    "\n",
    "and we can see for a parallel plate capacitor\n",
    "\n",
    "$C=\\frac{\\epsilon_{0}A}{d}$\n",
    "\n",
    "The unit for capacitance is the farad, $\\mathrm{F}$ (named after  [Michael Faraday](https://en.wikipedia.org/wiki/Michael_Faraday)) which is equivalent to $\\mathrm{\\frac{C}{V}}$\n"
   ]
  },
  {
   "cell_type": "markdown",
   "id": "4801023d",
   "metadata": {},
   "source": [
    "### Maintaining the separation of charge\n",
    "\n",
    "Although the charges will not spontaneously separate, once a voltage is applied if the circuit is broken the capacitor will maintain it's charge as there is no path for the charge to redistribute. If we create such a path the capacitor will quickly discharge!\n",
    "\n",
    "We should note that we need to disconnect the circuit while the potential is applied. If we return the voltage to zero the charge will return to zero. \n",
    "\n"
   ]
  },
  {
   "cell_type": "markdown",
   "id": "efdf8dd5",
   "metadata": {},
   "source": [
    "### Energy stored in a capacitor\n",
    "\n",
    "Earlier we derived that the potential energy of the negative sheet of charge with respect to positive sheet of charge is \n",
    "\n",
    "$U=-Q\\times-\\frac{Qd}{\\varepsilon_{0}A}=\\frac{Q^{2}d}{\\varepsilon_{0}A}$\n",
    "\n",
    "This formula would accurately allow us to calculate changes in the stored potential energy if we move the sheets of charge around. However this is not actually how we store and release energy in a capacitor. Instead we start from a situation where there is no charge separation and no potential difference across the capacitor. As we move charges from one side to another the potential and charges build up, each charge requiring a little more work than the previous. The work done in building up the charge separation is given by\n",
    "\n",
    "$W=\\int_{0}^{Q}V\\,dq=\\frac{1}{C}\\int_{0}^{Q}q\\,dq=\\frac{1}{2}\\frac{Q^{2}}{C}$\n",
    "\n",
    "This is equivalent to the amount of energy stored in the capacitor\n",
    "\n",
    "$U=\\frac{1}{2}\\frac{Q^{2}}{C}$ or $U=\\frac{1}{2}CV^{2}$\n",
    "\n",
    "The above is true for any capacitor. For a parallel plate capacitor \n",
    "\n",
    "$U=\\frac{1}{2}\\frac{Q^{2}d}{\\varepsilon_{0}A}$ or $U=\\frac{1}{2}\\frac{\\varepsilon_{0}A}{d}V^{2}$\n"
   ]
  },
  {
   "cell_type": "markdown",
   "id": "35af344f",
   "metadata": {},
   "source": [
    "### Moving the plates of a parallel plate capacitor\n",
    "\n",
    "We can look at the effect of changing the separation of the plates has on the amount of energy stored in both the situation where the external voltage is applied, and when it is removed.\n",
    "\n",
    "$C=\\frac{\\epsilon_{0}A}{d}$\n",
    "\n",
    "When the potential is maintained increasing the separation between the plates, reduces the capacitance, and hence the energy stored. \n",
    "\n",
    "$Q=\\frac{\\epsilon_{0}A}{d}V$\n",
    "\n",
    "$U=\\frac{1}{2}\\frac{Q^{2}}{C}=\\frac{1}{2}\\frac{\\epsilon_{0}A}{d}V^{2}$\n",
    "\n",
    "In this case work has been done in pushing charges back against the potential source, and this is why the stored energy has been reduced.\n",
    "\n",
    "When the circuit is disconnected the charge on the plates is constant and the potential can be modified by the movement of the plates.\n",
    "\n",
    "$V=\\frac{Qd}{\\varepsilon_{0}A}$\n",
    "\n",
    "$U=\\frac{1}{2}\\frac{\\varepsilon_{0}A}{d}V^{2}=\\frac{1}{2}\\frac{Q^{2}d}{\\varepsilon_{0}A}$\n",
    "\n",
    "where $Q$ is constant. \n",
    "\n",
    "In this case the energy stored increases and the additional energy is provided by the mechanical work we do in increasing the distance between the charges.\n"
   ]
  },
  {
   "cell_type": "markdown",
   "id": "0b798c8d",
   "metadata": {},
   "source": [
    "### Cylindrical capacitor\n",
    "\n",
    "Not all capacitors are parallel plates. We can also consider the capacitance of other arrangements, for example a cylinder, which has an external electrode of radius $R_{b}$ and an internal radius $R_{a}$.\n",
    "\n",
    "![im.png](images/cylindercap.png)\n",
    "\n",
    "The electric field is given by Gauss's law\n",
    "\n",
    "$\\oint \\vec{E}\\cdot d\\vec{A}=E2\\pi Rl=\\frac{Q}{\\varepsilon_{0}}\\to E=\\frac{1}{2\\pi\\varepsilon_{0}}\\frac{Q}{lR}$\n",
    "\n",
    "To find the capacitance we need to find the potential\n",
    "\n",
    "$V=V_{b}-V_{a}=-\\int_{a}^{b}\\vec{E}\\cdot d\\vec{l}=-\\frac{Q}{2\\pi\\varepsilon_{0}l}\\int_{R_{a}}^{R_{b}}\\frac{dR}{R}=-\\frac{Q}{2\\pi\\varepsilon_{0}l}\\ln\\frac{R_{b}}{R_{a}}=\\frac{Q}{2\\pi\\varepsilon_{0}l}\\ln\\frac{R_{a}}{R_{b}}$\n",
    "\n",
    "$C=\\frac{Q}{V}=\\frac{2\\pi\\varepsilon_{0}l}{\\ln(R_{a}/R_{b})}$\n"
   ]
  },
  {
   "cell_type": "markdown",
   "id": "1fac3aec",
   "metadata": {},
   "source": [
    "### Capacitors in circuits\n",
    "\n",
    "Circuit diagrams are a useful way to represent an electrical circuit. We introduce two symbols for capacitors and batteries so that we can draw circuits with capacitors in series and in parallel.\n",
    "\n",
    "![im.png](images/capbatsymbols.png)\n"
   ]
  },
  {
   "cell_type": "markdown",
   "id": "bd9d2b3d",
   "metadata": {},
   "source": [
    "### Capacitors in parallel\n",
    "\n",
    "![im.png](images/capsinparallel.png)\n",
    "\n",
    "When capacitors are connected in parallel the potential across each capacitor is the same. Each acquires a charge determined by it's capacitance and the total charge is the sum of these charges\n",
    "\n",
    "$Q=Q_{1}+Q_{2}+Q_{3}=C_{1}V+C_{2}V+C_{3}V=(C_{1}+C_{2}+C_{3})V$\n",
    "\n",
    "We can then consider an equivalent capacitance which is the sum of the capacitors\n",
    "\n",
    "$C_{eq}=C_{1}+C_{2}+C_{3}$\n"
   ]
  },
  {
   "cell_type": "markdown",
   "id": "7dfb0dc0",
   "metadata": {},
   "source": [
    "### Capacitors in series\n",
    "\n",
    "![im.png](images/capsinseries.png)\n",
    "\n",
    "When capacitors are connected in series it is the charge on each capacitor which is the same, as the region between the capacitors, which is considered to be an ideal conductor must remain overall electrically neutral and cannot have a field.\n",
    "\n",
    "$Q=C_{eq}V$\n",
    "\n",
    "\n",
    "The total voltage must equal the voltage across the battery\n",
    "\n",
    "\n",
    "$V=V_{1}+V_{2}+V_{3}$\n",
    "\n",
    "\n",
    "For each capacitor $Q=C_{i}V_{i}$\n",
    "\n",
    "$\\frac{Q}{C_{eq}}=\\frac{Q}{C_{1}}+\\frac{Q}{C_{2}}+\\frac{Q}{C_{3}}$\n",
    "\n",
    "$\\frac{1}{C_{eq}}=\\frac{1}{C_{1}}+\\frac{1}{C_{2}}+\\frac{1}{C_{3}}$\n",
    "\n"
   ]
  },
  {
   "cell_type": "code",
   "execution_count": null,
   "id": "e3dcd1b7",
   "metadata": {},
   "outputs": [],
   "source": []
  }
 ],
 "metadata": {
  "kernelspec": {
   "display_name": "Python 3 (ipykernel)",
   "language": "python",
   "name": "python3"
  },
  "language_info": {
   "codemirror_mode": {
    "name": "ipython",
    "version": 3
   },
   "file_extension": ".py",
   "mimetype": "text/x-python",
   "name": "python",
   "nbconvert_exporter": "python",
   "pygments_lexer": "ipython3",
   "version": "3.9.10"
  }
 },
 "nbformat": 4,
 "nbformat_minor": 5
}
